{
 "cells": [
  {
   "cell_type": "code",
   "execution_count": 1,
   "id": "e3646816",
   "metadata": {},
   "outputs": [
    {
     "name": "stderr",
     "output_type": "stream",
     "text": [
      "Matplotlib is building the font cache; this may take a moment.\n"
     ]
    }
   ],
   "source": [
    "import tsne\n",
    "import numpy as np\n",
    "import pandas as pd\n",
    "import matplotlib.pyplot as plt\n",
    "import seaborn as sns\n",
    "from sklearn.neighbors import NearestNeighbors\n",
    "from sklearn.preprocessing import MinMaxScaler, normalize"
   ]
  },
  {
   "cell_type": "code",
   "execution_count": 2,
   "id": "8bded574",
   "metadata": {},
   "outputs": [],
   "source": [
    "np.random.seed(0)"
   ]
  },
  {
   "cell_type": "markdown",
   "id": "01a808fb",
   "metadata": {},
   "source": [
    "# a)\n",
    "\n",
    "colunas: age, year, n_of_axilary, class"
   ]
  },
  {
   "cell_type": "code",
   "execution_count": 3,
   "id": "43838c59",
   "metadata": {},
   "outputs": [
    {
     "data": {
      "text/html": [
       "<div>\n",
       "<style scoped>\n",
       "    .dataframe tbody tr th:only-of-type {\n",
       "        vertical-align: middle;\n",
       "    }\n",
       "\n",
       "    .dataframe tbody tr th {\n",
       "        vertical-align: top;\n",
       "    }\n",
       "\n",
       "    .dataframe thead th {\n",
       "        text-align: right;\n",
       "    }\n",
       "</style>\n",
       "<table border=\"1\" class=\"dataframe\">\n",
       "  <thead>\n",
       "    <tr style=\"text-align: right;\">\n",
       "      <th></th>\n",
       "      <th>0</th>\n",
       "      <th>1</th>\n",
       "      <th>2</th>\n",
       "      <th>3</th>\n",
       "    </tr>\n",
       "  </thead>\n",
       "  <tbody>\n",
       "    <tr>\n",
       "      <th>0</th>\n",
       "      <td>30</td>\n",
       "      <td>64</td>\n",
       "      <td>1</td>\n",
       "      <td>1</td>\n",
       "    </tr>\n",
       "    <tr>\n",
       "      <th>1</th>\n",
       "      <td>30</td>\n",
       "      <td>62</td>\n",
       "      <td>3</td>\n",
       "      <td>1</td>\n",
       "    </tr>\n",
       "    <tr>\n",
       "      <th>2</th>\n",
       "      <td>30</td>\n",
       "      <td>65</td>\n",
       "      <td>0</td>\n",
       "      <td>1</td>\n",
       "    </tr>\n",
       "    <tr>\n",
       "      <th>3</th>\n",
       "      <td>31</td>\n",
       "      <td>59</td>\n",
       "      <td>2</td>\n",
       "      <td>1</td>\n",
       "    </tr>\n",
       "    <tr>\n",
       "      <th>4</th>\n",
       "      <td>31</td>\n",
       "      <td>65</td>\n",
       "      <td>4</td>\n",
       "      <td>1</td>\n",
       "    </tr>\n",
       "  </tbody>\n",
       "</table>\n",
       "</div>"
      ],
      "text/plain": [
       "    0   1  2  3\n",
       "0  30  64  1  1\n",
       "1  30  62  3  1\n",
       "2  30  65  0  1\n",
       "3  31  59  2  1\n",
       "4  31  65  4  1"
      ]
     },
     "execution_count": 3,
     "metadata": {},
     "output_type": "execute_result"
    }
   ],
   "source": [
    "# carrega a base de dados\n",
    "hb = pd.read_csv('haberman.data', header=None)\n",
    "hb.head()"
   ]
  },
  {
   "cell_type": "code",
   "execution_count": 4,
   "id": "8dd7af75",
   "metadata": {},
   "outputs": [],
   "source": [
    "# seleciona as 3 primeiras colunas\n",
    "X = hb[[0, 1, 2]].values\n",
    "# seleciona as classes\n",
    "labels = hb[[3]]\n",
    "# verifica a classe minoritária\n",
    "np.unique(labels,return_counts=True)\n",
    "# normaliza os dados\n",
    "X_norm = normalize(X)"
   ]
  },
  {
   "cell_type": "code",
   "execution_count": 5,
   "id": "92ceb54a",
   "metadata": {},
   "outputs": [
    {
     "name": "stdout",
     "output_type": "stream",
     "text": [
      "Preprocessing the data using PCA...\n",
      "Computing pairwise distances...\n",
      "Computing P-values for point 0 of 306...\n",
      "Mean value of sigma: 0.027388\n",
      "Iteration 10: error is 12.373230\n",
      "Iteration 20: error is 10.807585\n",
      "Iteration 30: error is 10.419484\n",
      "Iteration 40: error is 10.249793\n",
      "Iteration 50: error is 10.254351\n",
      "Iteration 60: error is 10.248175\n",
      "Iteration 70: error is 10.205973\n",
      "Iteration 80: error is 10.245000\n",
      "Iteration 90: error is 10.259191\n",
      "Iteration 100: error is 10.082518\n",
      "Iteration 110: error is 0.850664\n",
      "Iteration 120: error is 0.525345\n",
      "Iteration 130: error is 0.403188\n",
      "Iteration 140: error is 0.354605\n",
      "Iteration 150: error is 0.339899\n",
      "Iteration 160: error is 0.330919\n",
      "Iteration 170: error is 0.324813\n",
      "Iteration 180: error is 0.320235\n",
      "Iteration 190: error is 0.316902\n",
      "Iteration 200: error is 0.314509\n",
      "Iteration 210: error is 0.312751\n",
      "Iteration 220: error is 0.311437\n",
      "Iteration 230: error is 0.310458\n",
      "Iteration 240: error is 0.309666\n",
      "Iteration 250: error is 0.308967\n",
      "Iteration 260: error is 0.308388\n",
      "Iteration 270: error is 0.307866\n",
      "Iteration 280: error is 0.307387\n",
      "Iteration 290: error is 0.306979\n",
      "Iteration 300: error is 0.306637\n",
      "Iteration 310: error is 0.306319\n",
      "Iteration 320: error is 0.306019\n",
      "Iteration 330: error is 0.305762\n",
      "Iteration 340: error is 0.305512\n",
      "Iteration 350: error is 0.305297\n",
      "Iteration 360: error is 0.305113\n",
      "Iteration 370: error is 0.304931\n",
      "Iteration 380: error is 0.304759\n",
      "Iteration 390: error is 0.304609\n",
      "Iteration 400: error is 0.304468\n",
      "Iteration 410: error is 0.304342\n",
      "Iteration 420: error is 0.304226\n",
      "Iteration 430: error is 0.304124\n",
      "Iteration 440: error is 0.304032\n",
      "Iteration 450: error is 0.303946\n",
      "Iteration 460: error is 0.303865\n",
      "Iteration 470: error is 0.303792\n",
      "Iteration 480: error is 0.303726\n",
      "Iteration 490: error is 0.303666\n",
      "Iteration 500: error is 0.303611\n",
      "Iteration 510: error is 0.303562\n",
      "Iteration 520: error is 0.303516\n",
      "Iteration 530: error is 0.303476\n",
      "Iteration 540: error is 0.303439\n",
      "Iteration 550: error is 0.303403\n",
      "Iteration 560: error is 0.303371\n",
      "Iteration 570: error is 0.303342\n",
      "Iteration 580: error is 0.303315\n",
      "Iteration 590: error is 0.303290\n",
      "Iteration 600: error is 0.303268\n",
      "Iteration 610: error is 0.303247\n",
      "Iteration 620: error is 0.303227\n",
      "Iteration 630: error is 0.303210\n",
      "Iteration 640: error is 0.303193\n",
      "Iteration 650: error is 0.303178\n",
      "Iteration 660: error is 0.303164\n",
      "Iteration 670: error is 0.303151\n",
      "Iteration 680: error is 0.303138\n",
      "Iteration 690: error is 0.303127\n",
      "Iteration 700: error is 0.303117\n",
      "Iteration 710: error is 0.303107\n",
      "Iteration 720: error is 0.303098\n",
      "Iteration 730: error is 0.303090\n",
      "Iteration 740: error is 0.303082\n",
      "Iteration 750: error is 0.303074\n",
      "Iteration 760: error is 0.303068\n",
      "Iteration 770: error is 0.303061\n",
      "Iteration 780: error is 0.303055\n",
      "Iteration 790: error is 0.303050\n",
      "Iteration 800: error is 0.303045\n",
      "Iteration 810: error is 0.303040\n",
      "Iteration 820: error is 0.303036\n",
      "Iteration 830: error is 0.303031\n",
      "Iteration 840: error is 0.303028\n",
      "Iteration 850: error is 0.303024\n",
      "Iteration 860: error is 0.303021\n",
      "Iteration 870: error is 0.303018\n",
      "Iteration 880: error is 0.303015\n",
      "Iteration 890: error is 0.303012\n",
      "Iteration 900: error is 0.303010\n",
      "Iteration 910: error is 0.303008\n",
      "Iteration 920: error is 0.303005\n",
      "Iteration 930: error is 0.303003\n",
      "Iteration 940: error is 0.303002\n",
      "Iteration 950: error is 0.303000\n",
      "Iteration 960: error is 0.302998\n",
      "Iteration 970: error is 0.302997\n",
      "Iteration 980: error is 0.302995\n",
      "Iteration 990: error is 0.302994\n",
      "Iteration 1000: error is 0.302993\n"
     ]
    }
   ],
   "source": [
    "# aplicando o tsne\n",
    "Y = tsne.tsne(X_norm, 2, 3, 20.0)"
   ]
  },
  {
   "cell_type": "code",
   "execution_count": 6,
   "id": "4f5ac91f",
   "metadata": {},
   "outputs": [],
   "source": [
    "df_Y = pd.DataFrame(Y)\n",
    "df_Y['class'] = labels"
   ]
  },
  {
   "cell_type": "code",
   "execution_count": 7,
   "id": "05172a23",
   "metadata": {},
   "outputs": [
    {
     "data": {
      "image/png": "[encoded data removed]",
      "text/plain": [
       "<Figure size 432x288 with 1 Axes>"
      ]
     },
     "metadata": {
      "needs_background": "light"
     },
     "output_type": "display_data"
    }
   ],
   "source": [
    "sns.scatterplot(x=0, y=1, hue='class', data=df_Y)\n",
    "plt.show()"
   ]
  },
  {
   "cell_type": "markdown",
   "id": "ea4594d3",
   "metadata": {},
   "source": [
    "# b)"
   ]
  },
  {
   "cell_type": "code",
   "execution_count": 5,
   "id": "acb86dde",
   "metadata": {},
   "outputs": [],
   "source": [
    "def nearest_neighbour(X):\n",
    "    \"\"\"\n",
    "    Calcula os 5 pontos mais próximos usando a distância euclidiana\n",
    "    \"\"\"\n",
    "    nbs=NearestNeighbors(n_neighbors=5,metric='euclidean',algorithm='kd_tree').fit(X)\n",
    "    euclidean,indices= nbs.kneighbors(X)\n",
    "    return indices"
   ]
  },
  {
   "cell_type": "code",
   "execution_count": 14,
   "id": "f13ce7c5",
   "metadata": {},
   "outputs": [],
   "source": [
    "def smote(Xamostras):\n",
    "    \"\"\"\n",
    "    Aumenta uma base de dados em 3 vezes\n",
    "    \"\"\"\n",
    "    indices_proximos = nearest_neighbour(Xamostras)    \n",
    "    matriz = []\n",
    "    for i in range(3):\n",
    "        for j in range (len(indices_proximos)):\n",
    "            x = Xamostras[j]\n",
    "            alpha = np.random.uniform(size=1)[0]\n",
    "            ix_prox = np.random.choice(indices_proximos[j], size=1)[0]\n",
    "            y = Xamostras[ix_prox]\n",
    "            x_novo = (1 - alpha)*x + alpha*y\n",
    "            matriz.append(x_novo)\n",
    "    return np.array(matriz)"
   ]
  },
  {
   "cell_type": "code",
   "execution_count": 15,
   "id": "71c3dc34",
   "metadata": {},
   "outputs": [],
   "source": [
    "# pega os indices das classes minoritárias\n",
    "indice_amostras = labels[labels[3]==2].index\n",
    "# seleciona as amostras minoritárias\n",
    "Xamostras = X_norm[indice_amostras]"
   ]
  },
  {
   "cell_type": "code",
   "execution_count": 17,
   "id": "6e36469f",
   "metadata": {},
   "outputs": [],
   "source": [
    "novas_amostras = smote(Xamostras)\n",
    "nova_base = np.concatenate([X_norm, novas_amostras], axis=0)\n",
    "labels_amostras = np.ones(len(novas_amostras), dtype='int')*2\n",
    "novas_labels = np.concatenate([labels.values.flatten(), labels_amostras])"
   ]
  },
  {
   "cell_type": "code",
   "execution_count": 18,
   "id": "5f341040",
   "metadata": {},
   "outputs": [
    {
     "name": "stdout",
     "output_type": "stream",
     "text": [
      "Preprocessing the data using PCA...\n",
      "Computing pairwise distances...\n",
      "Computing P-values for point 0 of 549...\n",
      "Computing P-values for point 500 of 549...\n",
      "Mean value of sigma: 0.020547\n",
      "Iteration 10: error is 14.670935\n",
      "Iteration 20: error is 12.148110\n",
      "Iteration 30: error is 10.698966\n",
      "Iteration 40: error is 9.984736\n",
      "Iteration 50: error is 9.838194\n",
      "Iteration 60: error is 9.815012\n",
      "Iteration 70: error is 9.810698\n",
      "Iteration 80: error is 9.796674\n",
      "Iteration 90: error is 9.785963\n",
      "Iteration 100: error is 9.783512\n",
      "Iteration 110: error is 0.821640\n",
      "Iteration 120: error is 0.593057\n",
      "Iteration 130: error is 0.469871\n",
      "Iteration 140: error is 0.409745\n",
      "Iteration 150: error is 0.378367\n",
      "Iteration 160: error is 0.360185\n",
      "Iteration 170: error is 0.348912\n",
      "Iteration 180: error is 0.341810\n",
      "Iteration 190: error is 0.337102\n",
      "Iteration 200: error is 0.333520\n",
      "Iteration 210: error is 0.330815\n",
      "Iteration 220: error is 0.328895\n",
      "Iteration 230: error is 0.327381\n",
      "Iteration 240: error is 0.326083\n",
      "Iteration 250: error is 0.325007\n",
      "Iteration 260: error is 0.324086\n",
      "Iteration 270: error is 0.323303\n",
      "Iteration 280: error is 0.322625\n",
      "Iteration 290: error is 0.322025\n",
      "Iteration 300: error is 0.321506\n",
      "Iteration 310: error is 0.321077\n",
      "Iteration 320: error is 0.320692\n",
      "Iteration 330: error is 0.320337\n",
      "Iteration 340: error is 0.320014\n",
      "Iteration 350: error is 0.319738\n",
      "Iteration 360: error is 0.319489\n",
      "Iteration 370: error is 0.319252\n",
      "Iteration 380: error is 0.319028\n",
      "Iteration 390: error is 0.318838\n",
      "Iteration 400: error is 0.318658\n",
      "Iteration 410: error is 0.318493\n",
      "Iteration 420: error is 0.318336\n",
      "Iteration 430: error is 0.318191\n",
      "Iteration 440: error is 0.318064\n",
      "Iteration 450: error is 0.317937\n",
      "Iteration 460: error is 0.317821\n",
      "Iteration 470: error is 0.317718\n",
      "Iteration 480: error is 0.317618\n",
      "Iteration 490: error is 0.317522\n",
      "Iteration 500: error is 0.317438\n",
      "Iteration 510: error is 0.317359\n",
      "Iteration 520: error is 0.317282\n",
      "Iteration 530: error is 0.317208\n",
      "Iteration 540: error is 0.317139\n",
      "Iteration 550: error is 0.317075\n",
      "Iteration 560: error is 0.317014\n",
      "Iteration 570: error is 0.316955\n",
      "Iteration 580: error is 0.316900\n",
      "Iteration 590: error is 0.316848\n",
      "Iteration 600: error is 0.316797\n",
      "Iteration 610: error is 0.316747\n",
      "Iteration 620: error is 0.316701\n",
      "Iteration 630: error is 0.316657\n",
      "Iteration 640: error is 0.316615\n",
      "Iteration 650: error is 0.316574\n",
      "Iteration 660: error is 0.316536\n",
      "Iteration 670: error is 0.316500\n",
      "Iteration 680: error is 0.316463\n",
      "Iteration 690: error is 0.316430\n",
      "Iteration 700: error is 0.316399\n",
      "Iteration 710: error is 0.316367\n",
      "Iteration 720: error is 0.316338\n",
      "Iteration 730: error is 0.316310\n",
      "Iteration 740: error is 0.316282\n",
      "Iteration 750: error is 0.316254\n",
      "Iteration 760: error is 0.316228\n",
      "Iteration 770: error is 0.316203\n",
      "Iteration 780: error is 0.316178\n",
      "Iteration 790: error is 0.316154\n",
      "Iteration 800: error is 0.316132\n",
      "Iteration 810: error is 0.316111\n",
      "Iteration 820: error is 0.316090\n",
      "Iteration 830: error is 0.316070\n",
      "Iteration 840: error is 0.316051\n",
      "Iteration 850: error is 0.316031\n",
      "Iteration 860: error is 0.316013\n",
      "Iteration 870: error is 0.315995\n",
      "Iteration 880: error is 0.315978\n",
      "Iteration 890: error is 0.315960\n",
      "Iteration 900: error is 0.315942\n",
      "Iteration 910: error is 0.315928\n",
      "Iteration 920: error is 0.315914\n",
      "Iteration 930: error is 0.315899\n",
      "Iteration 940: error is 0.315884\n",
      "Iteration 950: error is 0.315870\n",
      "Iteration 960: error is 0.315856\n",
      "Iteration 970: error is 0.315842\n",
      "Iteration 980: error is 0.315829\n",
      "Iteration 990: error is 0.315816\n",
      "Iteration 1000: error is 0.315803\n"
     ]
    }
   ],
   "source": [
    "# aplicação do tsne na nova base\n",
    "Y_aumentado = tsne.tsne(nova_base, 2, 3, 20.0)"
   ]
  },
  {
   "cell_type": "code",
   "execution_count": 19,
   "id": "dbc2e878",
   "metadata": {},
   "outputs": [],
   "source": [
    "df_Y_aumentado = pd.DataFrame(Y_aumentado)\n",
    "df_Y_aumentado['class'] = novas_labels"
   ]
  },
  {
   "cell_type": "code",
   "execution_count": 20,
   "id": "cfd3cd85",
   "metadata": {},
   "outputs": [
    {
     "data": {
      "image/png": "[encoded data removed]",
      "text/plain": [
       "<Figure size 432x288 with 1 Axes>"
      ]
     },
     "metadata": {
      "needs_background": "light"
     },
     "output_type": "display_data"
    }
   ],
   "source": [
    "sns.scatterplot(x=0, y=1, hue='class', data=df_Y_aumentado)\n",
    "plt.show()"
   ]
  },
  {
   "cell_type": "markdown",
   "id": "901fc34f",
   "metadata": {},
   "source": [
    "# c)"
   ]
  },
  {
   "cell_type": "markdown",
   "id": "81788f97",
   "metadata": {},
   "source": [
    "Além da diferença entre o número de amostras, o t-SNE da base desbalanceada informa pouca coisa relevante sobre os dados. Contudo, com o aumento do número de amostras da classe 2 (classe minoritária) o t-SNE mostra que as duas classes presentes nos dados possuem características muito similares, de forma que os pontos gerados pelo t-SNE das duas classes são muito parecidos."
   ]
  }
 ],
 "metadata": {
  "kernelspec": {
   "display_name": "Python 3 (ipykernel)",
   "language": "python",
   "name": "python3"
  },
  "language_info": {
   "codemirror_mode": {
    "name": "ipython",
    "version": 3
   },
   "file_extension": ".py",
   "mimetype": "text/x-python",
   "name": "python",
   "nbconvert_exporter": "python",
   "pygments_lexer": "ipython3",
   "version": "3.9.2"
  }
 },
 "nbformat": 4,
 "nbformat_minor": 5
}
