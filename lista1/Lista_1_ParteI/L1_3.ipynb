{
 "cells": [
  {
   "cell_type": "markdown",
   "id": "4808209a",
   "metadata": {},
   "source": [
    "# 3"
   ]
  },
  {
   "cell_type": "markdown",
   "id": "c3931dc6",
   "metadata": {},
   "source": [
    "## a)"
   ]
  },
  {
   "cell_type": "markdown",
   "id": "ee444988",
   "metadata": {},
   "source": [
    "Apartir do enunciado da questão, temos que: $\\overline{XT} = E(XT)$, $\\overline{X}\\overline{T} = E(X)E(T)$, $\\overline{X^2} = E(X^2)$ e $\\overline{X}^2 = E(X)^2$.\n",
    "\n",
    "Substituindo na equação temos:\n",
    "\n",
    "$$ w_1 = \\frac{E(XT) - E(X)E(T)}{E(X^2) - E(X)^2} $$\n",
    "\n",
    "Também pelo enunciado da questão:\n",
    "\n",
    "$E(XT) - E(X)E(T) = Cov(X,T)$ e $E(X^2) - E(X)^2 = Var(X)$, logo:\n",
    "\n",
    "$$w_1 = \\frac{cov(X,T)}{var(X)}$$"
   ]
  },
  {
   "cell_type": "markdown",
   "id": "1d2b7e3e",
   "metadata": {},
   "source": [
    "## b)"
   ]
  },
  {
   "cell_type": "markdown",
   "id": "db87ec06",
   "metadata": {},
   "source": [
    "$f(X) = w_0 + w_1X$.\n",
    "\n",
    "Pela equação dos valores estimados para $w_0$ temos que $$w_0 = \\overline{T} - w_1\\overline{X}.$$\n",
    "\n",
    "Pela questão anterior, temos que $$w_1 = \\frac{cov(X,T)}{var(X)}.$$\n",
    "\n",
    "Substituindo $w_0$ na equação: $$ f(x) = \\overline{T} - w_1\\overline{X} + w_1X.$$\n",
    "\n",
    "Deixando $w_1$ em evidência: $$ f(x) = \\overline{T} + w_1(X - \\overline{X}).$$\n",
    "\n",
    "Substituindo $w_1$: $$ f(x) = \\overline{T} + \\frac{cov(X,T)(X - \\overline{X})}{var(X)}.$$\n",
    "\n",
    "E, como $\\overline{X} = E(X)$ e $\\overline{T} = E(T)$:\n",
    "\n",
    "$$ f(x) = E(T) + \\frac{cov(X,T)(X - E(X))}{var(X)}.$$\n"
   ]
  },
  {
   "cell_type": "markdown",
   "id": "3727d5b2",
   "metadata": {},
   "source": [
    "## c)"
   ]
  },
  {
   "cell_type": "markdown",
   "id": "2769633e",
   "metadata": {},
   "source": [
    "Para ser um sistema linear, a equação $T = WX$ precisa ter a forma\n",
    "$$\\begin{alignat*}{4}\n",
    "    x_1w & {}={} & t_1 \\\\\n",
    "    x_2w & {}={} &  t_2 \\\\\n",
    "    \\vdots & {}={} &  \\vdots \\\\\n",
    "    x_nw & {}={} & t_n\n",
    "\\end{alignat*}$$\n",
    "\n",
    "Para que isso seja possível, $T$, $W$ e $X$ podem ser entendidos como uma matriz de dimensões $n \\times 1$. Como $W$ terá apenas um único valor, $W$ será uma matriz com o mesmo valor repetido $n$ vezes. Assim:\n",
    "\n",
    "$$\n",
    "X = \n",
    "\\begin{bmatrix}\n",
    "  x_{1} \\\\\n",
    "  x_{2} \\\\\n",
    "  \\vdots \\\\\n",
    "  x_n \\\\\n",
    "\\end{bmatrix},\n",
    "T = \n",
    "\\begin{bmatrix}\n",
    "  t_{1} \\\\\n",
    "  t_{2} \\\\\n",
    "  \\vdots \\\\\n",
    "  t_{n} \\\\\n",
    "\\end{bmatrix},\n",
    "W = \n",
    "\\begin{bmatrix}\n",
    "  w_{1} \\\\\n",
    "  w_{1} \\\\\n",
    "  \\vdots \\\\\n",
    "  w_{1} \\\\\n",
    "\\end{bmatrix}$$\n",
    "\n"
   ]
  }
 ],
 "metadata": {
  "kernelspec": {
   "display_name": "Python 3 (ipykernel)",
   "language": "python",
   "name": "python3"
  },
  "language_info": {
   "codemirror_mode": {
    "name": "ipython",
    "version": 3
   },
   "file_extension": ".py",
   "mimetype": "text/x-python",
   "name": "python",
   "nbconvert_exporter": "python",
   "pygments_lexer": "ipython3",
   "version": "3.9.2"
  }
 },
 "nbformat": 4,
 "nbformat_minor": 5
}
