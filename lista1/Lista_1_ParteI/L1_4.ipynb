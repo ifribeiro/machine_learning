{
 "cells": [
  {
   "cell_type": "code",
   "execution_count": 1,
   "id": "c415cd1b",
   "metadata": {},
   "outputs": [],
   "source": [
    "import pandas as pd\n",
    "import numpy as np\n",
    "from sklearn.metrics import mean_squared_error"
   ]
  },
  {
   "cell_type": "markdown",
   "id": "2d26310b",
   "metadata": {},
   "source": [
    "# a)"
   ]
  },
  {
   "cell_type": "code",
   "execution_count": 15,
   "id": "96d999b2",
   "metadata": {},
   "outputs": [],
   "source": [
    "def LR(X, T):\n",
    "    \"\"\"\n",
    "    Retorna os coeficientes de um modelo de regressao linear\n",
    "    \n",
    "    Params:\n",
    "        - X: dados de entrada\n",
    "        - T: dados esperados\n",
    "    \"\"\"\n",
    "    # criar uma vetor coluna para coeficiente w0\n",
    "    uns = np.ones(len(X)).reshape(len(X),1)    \n",
    "    X_ = np.concatenate([uns,X], axis=1)\n",
    "    \n",
    "    A = np.dot(X_.T,X_)\n",
    "    B = np.dot(X_.T, T)\n",
    "    A = np.linalg.inv(A)\n",
    "    W = np.dot(A,B)\n",
    "    return W\n",
    "\n",
    "def predict(coef, X):\n",
    "    \"\"\"\n",
    "    Retorna as predições de um modelo de regressao linear\n",
    "    \"\"\"\n",
    "    uns = np.ones(len(X)).reshape(len(X),1)    \n",
    "    X_ = np.concatenate([uns,X], axis=1)\n",
    "    \n",
    "    y_hat = np.dot(X_,coef)\n",
    "    return y_hat"
   ]
  },
  {
   "cell_type": "code",
   "execution_count": 2,
   "id": "abb3e359",
   "metadata": {},
   "outputs": [],
   "source": [
    "f = open(\"auto-mpg.data\")\n",
    "# le todas as linhas do arquivo\n",
    "linhas = f.readlines()"
   ]
  },
  {
   "cell_type": "code",
   "execution_count": 3,
   "id": "837fc92c",
   "metadata": {},
   "outputs": [],
   "source": [
    "# processamento dos dados\n",
    "auto_data = []\n",
    "for l in linhas:\n",
    "    data = []\n",
    "    # separa as linhas\n",
    "    numeros_string = l.split('\\t')\n",
    "    for s in numeros_string[0].split(\"  \"):\n",
    "        s_strip = s.strip()\n",
    "        if len(s_strip)>0:\n",
    "            data.append(s_strip)\n",
    "    data.append(numeros_string[1].strip())\n",
    "    auto_data.append(data)"
   ]
  },
  {
   "cell_type": "code",
   "execution_count": 4,
   "id": "54b57717",
   "metadata": {},
   "outputs": [],
   "source": [
    "auto_data = np.array(auto_data)\n",
    "df_auto_data = pd.DataFrame(auto_data)\n",
    "df_auto_data.head()"
   ]
  },
  {
   "cell_type": "code",
   "execution_count": 5,
   "id": "4c22f9c4",
   "metadata": {},
   "outputs": [
    {
     "data": {
      "text/html": [
       "<div>\n",
       "<style scoped>\n",
       "    .dataframe tbody tr th:only-of-type {\n",
       "        vertical-align: middle;\n",
       "    }\n",
       "\n",
       "    .dataframe tbody tr th {\n",
       "        vertical-align: top;\n",
       "    }\n",
       "\n",
       "    .dataframe thead th {\n",
       "        text-align: right;\n",
       "    }\n",
       "</style>\n",
       "<table border=\"1\" class=\"dataframe\">\n",
       "  <thead>\n",
       "    <tr style=\"text-align: right;\">\n",
       "      <th></th>\n",
       "      <th>0</th>\n",
       "      <th>1</th>\n",
       "      <th>2</th>\n",
       "      <th>3</th>\n",
       "      <th>4</th>\n",
       "      <th>5</th>\n",
       "      <th>6</th>\n",
       "      <th>7</th>\n",
       "      <th>8</th>\n",
       "    </tr>\n",
       "  </thead>\n",
       "  <tbody>\n",
       "    <tr>\n",
       "      <th>0</th>\n",
       "      <td>18.0</td>\n",
       "      <td>8</td>\n",
       "      <td>307.0</td>\n",
       "      <td>130.0</td>\n",
       "      <td>3504.</td>\n",
       "      <td>12.0</td>\n",
       "      <td>70</td>\n",
       "      <td>1</td>\n",
       "      <td>\"chevrolet chevelle malibu\"</td>\n",
       "    </tr>\n",
       "    <tr>\n",
       "      <th>1</th>\n",
       "      <td>15.0</td>\n",
       "      <td>8</td>\n",
       "      <td>350.0</td>\n",
       "      <td>165.0</td>\n",
       "      <td>3693.</td>\n",
       "      <td>11.5</td>\n",
       "      <td>70</td>\n",
       "      <td>1</td>\n",
       "      <td>\"buick skylark 320\"</td>\n",
       "    </tr>\n",
       "    <tr>\n",
       "      <th>2</th>\n",
       "      <td>18.0</td>\n",
       "      <td>8</td>\n",
       "      <td>318.0</td>\n",
       "      <td>150.0</td>\n",
       "      <td>3436.</td>\n",
       "      <td>11.0</td>\n",
       "      <td>70</td>\n",
       "      <td>1</td>\n",
       "      <td>\"plymouth satellite\"</td>\n",
       "    </tr>\n",
       "    <tr>\n",
       "      <th>3</th>\n",
       "      <td>16.0</td>\n",
       "      <td>8</td>\n",
       "      <td>304.0</td>\n",
       "      <td>150.0</td>\n",
       "      <td>3433.</td>\n",
       "      <td>12.0</td>\n",
       "      <td>70</td>\n",
       "      <td>1</td>\n",
       "      <td>\"amc rebel sst\"</td>\n",
       "    </tr>\n",
       "    <tr>\n",
       "      <th>4</th>\n",
       "      <td>17.0</td>\n",
       "      <td>8</td>\n",
       "      <td>302.0</td>\n",
       "      <td>140.0</td>\n",
       "      <td>3449.</td>\n",
       "      <td>10.5</td>\n",
       "      <td>70</td>\n",
       "      <td>1</td>\n",
       "      <td>\"ford torino\"</td>\n",
       "    </tr>\n",
       "  </tbody>\n",
       "</table>\n",
       "</div>"
      ],
      "text/plain": [
       "      0  1      2      3      4     5   6  7                            8\n",
       "0  18.0  8  307.0  130.0  3504.  12.0  70  1  \"chevrolet chevelle malibu\"\n",
       "1  15.0  8  350.0  165.0  3693.  11.5  70  1          \"buick skylark 320\"\n",
       "2  18.0  8  318.0  150.0  3436.  11.0  70  1         \"plymouth satellite\"\n",
       "3  16.0  8  304.0  150.0  3433.  12.0  70  1              \"amc rebel sst\"\n",
       "4  17.0  8  302.0  140.0  3449.  10.5  70  1                \"ford torino\""
      ]
     },
     "execution_count": 5,
     "metadata": {},
     "output_type": "execute_result"
    }
   ],
   "source": []
  },
  {
   "cell_type": "code",
   "execution_count": 6,
   "id": "0021615a",
   "metadata": {},
   "outputs": [],
   "source": [
    "# remove a última coluna\n",
    "df_auto_data = df_auto_data.drop(columns=8)"
   ]
  },
  {
   "cell_type": "markdown",
   "id": "98120b49",
   "metadata": {},
   "source": [
    "**Porque remover a última coluna?**:\n",
    "\n",
    "A regressão linear só pode ser feita em valores numéricos e a última coluna é uma string."
   ]
  },
  {
   "cell_type": "code",
   "execution_count": 7,
   "id": "5a8bde12",
   "metadata": {},
   "outputs": [],
   "source": [
    "# remove linhas que contem o valor \"?\", que representam dados faltantes\n",
    "columns = df_auto_data.columns\n",
    "for c in columns:\n",
    "    df_auto_data = df_auto_data[df_auto_data[c]!='?']"
   ]
  },
  {
   "cell_type": "code",
   "execution_count": 8,
   "id": "0c9fffe0",
   "metadata": {},
   "outputs": [],
   "source": [
    "# convert os valores para float\n",
    "X = df_auto_data.values.astype('float')\n",
    "\n",
    "## separa os dados em treino e teste\n",
    "# dados de treino\n",
    "X_train = X[:150, 1:]\n",
    "y_train = X[:150, 0]\n",
    "# dados de teste\n",
    "X_test = X[150:, 1:]\n",
    "y_test = X[150:, 0]"
   ]
  },
  {
   "cell_type": "code",
   "execution_count": 13,
   "id": "43e75f56",
   "metadata": {},
   "outputs": [
    {
     "name": "stdout",
     "output_type": "stream",
     "text": [
      "rmse 6.247006759639527\n"
     ]
    }
   ],
   "source": [
    "# obtencao dos coeficientes\n",
    "coeficientes = LR(X_train, y_train)\n",
    "# predicao dos valores\n",
    "y_pred = predict(coeficientes,X_test)\n",
    "rmse = np.sqrt(mean_squared_error(y_test, y_pred))\n",
    "print (\"rmse\", rmse)"
   ]
  },
  {
   "cell_type": "markdown",
   "id": "0d6ad8af",
   "metadata": {},
   "source": [
    "# b)"
   ]
  },
  {
   "cell_type": "code",
   "execution_count": 19,
   "id": "6e2489ea",
   "metadata": {},
   "outputs": [],
   "source": [
    "def RSS(orig_coef_, y_real, X):\n",
    "    \"\"\"\n",
    "    Calcula o RSS de modelo de regressão linear\n",
    "    Params:\n",
    "        - orig_coef: coeficientes do modelo\n",
    "        - y_real: y esperado\n",
    "        - X: base de dados\n",
    "    \n",
    "    return:\n",
    "        - sum_eq: soma dos quadrados dos erros\n",
    "    \n",
    "    \"\"\"\n",
    "    # obtem predições do modelo\n",
    "    y_hat = predict(orig_coef_, X)\n",
    "    # obtem os quadrodos dos erros\n",
    "    erros_quadrados = np.array([(y_hat[i] - y_real[i])**2 for i in range(len(X))])\n",
    "    sum_eq = erros_quadrados.sum()\n",
    "    return sum_eq"
   ]
  },
  {
   "cell_type": "code",
   "execution_count": 20,
   "id": "40eca61c",
   "metadata": {},
   "outputs": [],
   "source": [
    "def RSS_0(orig_coef_, y_real, X, indice_attr):\n",
    "    \"\"\"\n",
    "    Calcula o RSS_0 de modelo de regressão linear\n",
    "    Params:\n",
    "        - orig_coef: coeficientes do modelo\n",
    "        - y_real: y esperado\n",
    "        - X: base de dados\n",
    "    \n",
    "    return:\n",
    "        - sum_eq: soma dos quadrados dos erros\n",
    "    \n",
    "    \"\"\"\n",
    "    coef_ = orig_coef_.copy()\n",
    "    # zera o coeficiente indicado\n",
    "    coef_[indice_attr+1] = 0\n",
    "    y_hat = predict(coef_, X)\n",
    "    erros_quadrados = np.array([(y_hat[i] - y_real[i])**2 for i in range(len(X))])\n",
    "    sum_eq = erros_quadrados.sum()\n",
    "    return sum_eq"
   ]
  },
  {
   "cell_type": "code",
   "execution_count": 21,
   "id": "0b0597bc",
   "metadata": {},
   "outputs": [],
   "source": [
    "def F(rss, rss_0, n, q, N):\n",
    "    \"\"\"\n",
    "    Obtem o F\n",
    "    \n",
    "    Params:\n",
    "        - rss: valor do RSS do modelo\n",
    "        - rss_0: valor do RSS_0 do modelo\n",
    "        - n: número total de atributos\n",
    "        - q: número de atributos na estimativa\n",
    "        - N: número de amostras\n",
    "    \"\"\"\n",
    "    numerador = (rss_0 - rss)/(n-q)\n",
    "    denominador = (rss/(N-n-1))\n",
    "    f = numerador/denominador\n",
    "    return f"
   ]
  },
  {
   "cell_type": "code",
   "execution_count": 24,
   "id": "ed94edbd",
   "metadata": {},
   "outputs": [],
   "source": [
    "rss = RSS(coeficientes, y_train, X_train)\n",
    "RSS_0s = [RSS_0(coeficientes, y_train, X_train, i) for i in range(7)]\n",
    "Fs = [ F(rss, RSS_0s[i],7,6,len(X_train[:15])) for i in range(7)]"
   ]
  },
  {
   "cell_type": "code",
   "execution_count": 26,
   "id": "08289ebc",
   "metadata": {},
   "outputs": [],
   "source": [
    "F142 = 3.908"
   ]
  },
  {
   "cell_type": "code",
   "execution_count": 27,
   "id": "cadc254d",
   "metadata": {},
   "outputs": [
    {
     "name": "stdout",
     "output_type": "stream",
     "text": [
      "2.5405267435592926 1\n",
      "0.13433013742832733 2\n",
      "0.1558884279880601 5\n"
     ]
    }
   ],
   "source": [
    "# verifica quais atributos não passam no valor estabelecido\n",
    "i = 1\n",
    "for f in Fs:\n",
    "    if(f<F142): print (f,i)\n",
    "    i+=1"
   ]
  },
  {
   "cell_type": "markdown",
   "id": "5337a47a",
   "metadata": {},
   "source": [
    "$F_1 = 2.54$, $F_2=0.13$ e $F_5 = 0.15$. Logo, $F_1$,$F_2$ e $F_5$ podem ser removidos"
   ]
  },
  {
   "cell_type": "code",
   "execution_count": 27,
   "id": "19a755d3",
   "metadata": {},
   "outputs": [],
   "source": [
    "novo_coef = orig_coef_.copy()\n",
    "novo_coef[0] = 0\n",
    "novo_coef[1] = 0\n",
    "novo_coef[4] = 0\n",
    "f_xN = [reg.intercept_ + ((novo_coef * X_test[i])).sum() for i in range(len(X_test))]"
   ]
  },
  {
   "cell_type": "code",
   "execution_count": 28,
   "id": "59c79dc5",
   "metadata": {
    "scrolled": true
   },
   "outputs": [
    {
     "data": {
      "text/plain": [
       "5.539475549611815"
      ]
     },
     "execution_count": 28,
     "metadata": {},
     "output_type": "execute_result"
    }
   ],
   "source": [
    "novo_rmse = np.sqrt(mean_squared_error(y_test, f_xN))\n",
    "novo_rmse"
   ]
  },
  {
   "cell_type": "markdown",
   "id": "489d0148",
   "metadata": {},
   "source": [
    "# c)\n",
    "\n",
    "**Comparação dos resultados**\n",
    "\n",
    "O RMSE do modelo quando utilizando todas as variáveis era de $\\approx 6.24$, enquanto que o RMSE do modelo ao se remover as variáveis (1, 2 e 5) após a aplicação do teste F de Snedecor é de $\\approx 5.53$. Em outras palavras, a presença de tais variáveis durante a utilização do modelo de regressão linear prejudica o seu desempenho."
   ]
  }
 ],
 "metadata": {
  "kernelspec": {
   "display_name": "Python 3 (ipykernel)",
   "language": "python",
   "name": "python3"
  },
  "language_info": {
   "codemirror_mode": {
    "name": "ipython",
    "version": 3
   },
   "file_extension": ".py",
   "mimetype": "text/x-python",
   "name": "python",
   "nbconvert_exporter": "python",
   "pygments_lexer": "ipython3",
   "version": "3.9.2"
  }
 },
 "nbformat": 4,
 "nbformat_minor": 5
}
