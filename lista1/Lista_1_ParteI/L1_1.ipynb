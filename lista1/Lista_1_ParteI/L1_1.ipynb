{
 "cells": [
  {
   "cell_type": "markdown",
   "id": "e8bfe6a2",
   "metadata": {
    "id": "e8bfe6a2"
   },
   "source": [
    "# Parte I"
   ]
  },
  {
   "cell_type": "markdown",
   "id": "bee3a5c9",
   "metadata": {
    "id": "bee3a5c9"
   },
   "source": [
    "## 1)"
   ]
  },
  {
   "cell_type": "code",
   "execution_count": null,
   "id": "e371834a",
   "metadata": {
    "id": "e371834a"
   },
   "outputs": [],
   "source": [
    "import pandas as pd\n",
    "import numpy as np\n",
    "import seaborn as sns\n",
    "import matplotlib.pyplot as plt\n",
    "from sklearn.preprocessing import normalize"
   ]
  },
  {
   "cell_type": "code",
   "execution_count": null,
   "id": "4de62991",
   "metadata": {
    "id": "4de62991"
   },
   "outputs": [],
   "source": [
    "column_names = [\"buying\", \"maint\", \"doors\", \"persons\", \"lug_boot\", \"safety\", \"class\"]\n",
    "def load_car_data(filename):\n",
    "    # load car data\n",
    "    df = pd.read_csv(filename, header=None)\n",
    "    # rename columns    \n",
    "    dict_columns = dict()\n",
    "    for i in range(7):\n",
    "        dict_columns[i] = column_names[i]\n",
    "    \n",
    "    df.rename(columns=dict_columns, inplace=True)\n",
    "    \n",
    "    return df"
   ]
  },
  {
   "cell_type": "code",
   "execution_count": null,
   "id": "b1972f21",
   "metadata": {
    "id": "b1972f21"
   },
   "outputs": [],
   "source": [
    "def transformar_dados(dados):\n",
    "  \"\"\"\n",
    "  Transforma os valores categóricos em numéricos\n",
    "  \"\"\"\n",
    "\n",
    "  buying_maint = {'low':0,'med':1,'high':2, 'vhigh':3}\n",
    "  doors = {'5more':5}\n",
    "  persons = {'more':5}\n",
    "  lug_boot = {'small':0, 'med':1, 'big':2}\n",
    "  safety = {'low':0, 'med':1, 'high':2}\n",
    "  class_ = {'unacc':0, 'acc':1, 'good':2, 'vgood':3}\n",
    "  list_dicionarios = [buying_maint, doors, persons, lug_boot, safety, class_]\n",
    "  \n",
    "  # substitui os valores da coluna por numeros\n",
    "  for d in list_dicionarios:\n",
    "      for k in d:\n",
    "          dados.replace(k,d[k], inplace=True)\n",
    "  \n",
    "  dados = dados.astype('float')\n",
    "  return dados"
   ]
  },
  {
   "cell_type": "code",
   "execution_count": null,
   "id": "39a68092",
   "metadata": {
    "colab": {
     "base_uri": "https://localhost:8080/",
     "height": 206
    },
    "id": "39a68092",
    "outputId": "545521ca-83b2-4d60-c5b7-d8d35eb7cfc6"
   },
   "outputs": [
    {
     "data": {
      "text/html": [
       "\n",
       "  <div id=\"df-5efc1762-87c8-4b86-9d6b-d2bc9f0620db\">\n",
       "    <div class=\"colab-df-container\">\n",
       "      <div>\n",
       "<style scoped>\n",
       "    .dataframe tbody tr th:only-of-type {\n",
       "        vertical-align: middle;\n",
       "    }\n",
       "\n",
       "    .dataframe tbody tr th {\n",
       "        vertical-align: top;\n",
       "    }\n",
       "\n",
       "    .dataframe thead th {\n",
       "        text-align: right;\n",
       "    }\n",
       "</style>\n",
       "<table border=\"1\" class=\"dataframe\">\n",
       "  <thead>\n",
       "    <tr style=\"text-align: right;\">\n",
       "      <th></th>\n",
       "      <th>buying</th>\n",
       "      <th>maint</th>\n",
       "      <th>doors</th>\n",
       "      <th>persons</th>\n",
       "      <th>lug_boot</th>\n",
       "      <th>safety</th>\n",
       "      <th>class</th>\n",
       "    </tr>\n",
       "  </thead>\n",
       "  <tbody>\n",
       "    <tr>\n",
       "      <th>0</th>\n",
       "      <td>3.0</td>\n",
       "      <td>3.0</td>\n",
       "      <td>2.0</td>\n",
       "      <td>2.0</td>\n",
       "      <td>0.0</td>\n",
       "      <td>0.0</td>\n",
       "      <td>0.0</td>\n",
       "    </tr>\n",
       "    <tr>\n",
       "      <th>1</th>\n",
       "      <td>3.0</td>\n",
       "      <td>3.0</td>\n",
       "      <td>2.0</td>\n",
       "      <td>2.0</td>\n",
       "      <td>0.0</td>\n",
       "      <td>1.0</td>\n",
       "      <td>0.0</td>\n",
       "    </tr>\n",
       "    <tr>\n",
       "      <th>2</th>\n",
       "      <td>3.0</td>\n",
       "      <td>3.0</td>\n",
       "      <td>2.0</td>\n",
       "      <td>2.0</td>\n",
       "      <td>0.0</td>\n",
       "      <td>2.0</td>\n",
       "      <td>0.0</td>\n",
       "    </tr>\n",
       "    <tr>\n",
       "      <th>3</th>\n",
       "      <td>3.0</td>\n",
       "      <td>3.0</td>\n",
       "      <td>2.0</td>\n",
       "      <td>2.0</td>\n",
       "      <td>1.0</td>\n",
       "      <td>0.0</td>\n",
       "      <td>0.0</td>\n",
       "    </tr>\n",
       "    <tr>\n",
       "      <th>4</th>\n",
       "      <td>3.0</td>\n",
       "      <td>3.0</td>\n",
       "      <td>2.0</td>\n",
       "      <td>2.0</td>\n",
       "      <td>1.0</td>\n",
       "      <td>1.0</td>\n",
       "      <td>0.0</td>\n",
       "    </tr>\n",
       "  </tbody>\n",
       "</table>\n",
       "</div>\n",
       "      <button class=\"colab-df-convert\" onclick=\"convertToInteractive('df-5efc1762-87c8-4b86-9d6b-d2bc9f0620db')\"\n",
       "              title=\"Convert this dataframe to an interactive table.\"\n",
       "              style=\"display:none;\">\n",
       "        \n",
       "  <svg xmlns=\"http://www.w3.org/2000/svg\" height=\"24px\"viewBox=\"0 0 24 24\"\n",
       "       width=\"24px\">\n",
       "    <path d=\"M0 0h24v24H0V0z\" fill=\"none\"/>\n",
       "    <path d=\"M18.56 5.44l.94 2.06.94-2.06 2.06-.94-2.06-.94-.94-2.06-.94 2.06-2.06.94zm-11 1L8.5 8.5l.94-2.06 2.06-.94-2.06-.94L8.5 2.5l-.94 2.06-2.06.94zm10 10l.94 2.06.94-2.06 2.06-.94-2.06-.94-.94-2.06-.94 2.06-2.06.94z\"/><path d=\"M17.41 7.96l-1.37-1.37c-.4-.4-.92-.59-1.43-.59-.52 0-1.04.2-1.43.59L10.3 9.45l-7.72 7.72c-.78.78-.78 2.05 0 2.83L4 21.41c.39.39.9.59 1.41.59.51 0 1.02-.2 1.41-.59l7.78-7.78 2.81-2.81c.8-.78.8-2.07 0-2.86zM5.41 20L4 18.59l7.72-7.72 1.47 1.35L5.41 20z\"/>\n",
       "  </svg>\n",
       "      </button>\n",
       "      \n",
       "  <style>\n",
       "    .colab-df-container {\n",
       "      display:flex;\n",
       "      flex-wrap:wrap;\n",
       "      gap: 12px;\n",
       "    }\n",
       "\n",
       "    .colab-df-convert {\n",
       "      background-color: #E8F0FE;\n",
       "      border: none;\n",
       "      border-radius: 50%;\n",
       "      cursor: pointer;\n",
       "      display: none;\n",
       "      fill: #1967D2;\n",
       "      height: 32px;\n",
       "      padding: 0 0 0 0;\n",
       "      width: 32px;\n",
       "    }\n",
       "\n",
       "    .colab-df-convert:hover {\n",
       "      background-color: #E2EBFA;\n",
       "      box-shadow: 0px 1px 2px rgba(60, 64, 67, 0.3), 0px 1px 3px 1px rgba(60, 64, 67, 0.15);\n",
       "      fill: #174EA6;\n",
       "    }\n",
       "\n",
       "    [theme=dark] .colab-df-convert {\n",
       "      background-color: #3B4455;\n",
       "      fill: #D2E3FC;\n",
       "    }\n",
       "\n",
       "    [theme=dark] .colab-df-convert:hover {\n",
       "      background-color: #434B5C;\n",
       "      box-shadow: 0px 1px 3px 1px rgba(0, 0, 0, 0.15);\n",
       "      filter: drop-shadow(0px 1px 2px rgba(0, 0, 0, 0.3));\n",
       "      fill: #FFFFFF;\n",
       "    }\n",
       "  </style>\n",
       "\n",
       "      <script>\n",
       "        const buttonEl =\n",
       "          document.querySelector('#df-5efc1762-87c8-4b86-9d6b-d2bc9f0620db button.colab-df-convert');\n",
       "        buttonEl.style.display =\n",
       "          google.colab.kernel.accessAllowed ? 'block' : 'none';\n",
       "\n",
       "        async function convertToInteractive(key) {\n",
       "          const element = document.querySelector('#df-5efc1762-87c8-4b86-9d6b-d2bc9f0620db');\n",
       "          const dataTable =\n",
       "            await google.colab.kernel.invokeFunction('convertToInteractive',\n",
       "                                                     [key], {});\n",
       "          if (!dataTable) return;\n",
       "\n",
       "          const docLinkHtml = 'Like what you see? Visit the ' +\n",
       "            '<a target=\"_blank\" href=https://colab.research.google.com/notebooks/data_table.ipynb>data table notebook</a>'\n",
       "            + ' to learn more about interactive tables.';\n",
       "          element.innerHTML = '';\n",
       "          dataTable['output_type'] = 'display_data';\n",
       "          await google.colab.output.renderOutput(dataTable, element);\n",
       "          const docLink = document.createElement('div');\n",
       "          docLink.innerHTML = docLinkHtml;\n",
       "          element.appendChild(docLink);\n",
       "        }\n",
       "      </script>\n",
       "    </div>\n",
       "  </div>\n",
       "  "
      ],
      "text/plain": [
       "   buying  maint  doors  persons  lug_boot  safety  class\n",
       "0     3.0    3.0    2.0      2.0       0.0     0.0    0.0\n",
       "1     3.0    3.0    2.0      2.0       0.0     1.0    0.0\n",
       "2     3.0    3.0    2.0      2.0       0.0     2.0    0.0\n",
       "3     3.0    3.0    2.0      2.0       1.0     0.0    0.0\n",
       "4     3.0    3.0    2.0      2.0       1.0     1.0    0.0"
      ]
     },
     "execution_count": 6,
     "metadata": {},
     "output_type": "execute_result"
    }
   ],
   "source": [
    "car_data = load_car_data(\"car.data\")\n",
    "car_data = transformar_dados(car_data)\n",
    "car_data.head()"
   ]
  },
  {
   "cell_type": "markdown",
   "id": "6478c7f1",
   "metadata": {
    "id": "6478c7f1"
   },
   "source": [
    "## a)"
   ]
  },
  {
   "cell_type": "code",
   "execution_count": null,
   "id": "db52489f",
   "metadata": {
    "id": "db52489f"
   },
   "outputs": [],
   "source": [
    "# seleciona os valores da base de dados\n",
    "X = car_data.iloc[:, :-1].values\n",
    "\n",
    "# Calcula a média de cada atributo\n",
    "medias_atributos = X.mean(axis=0)\n",
    "# subtrai a média de cada atributo (garante que a média dos atributos é zero)\n",
    "X_ = X - medias_atributos\n",
    "# calcula a matriz de covariâncoa\n",
    "cov_matriz = np.cov(X_.T)\n",
    "\n",
    "## calcula os autovalores/vetores\n",
    "# os autovalores não necessariamente estão ordenados do maior para o menor\n",
    "autovalores, autovetores = np.linalg.eig(cov_matriz)\n",
    "# orderna os autovalores do maior para o menor\n",
    "ord_autovalores =  sorted(autovalores, reverse=True)\n",
    "\n",
    "# seleciona os indices dos autovetores associados aos autovalores\n",
    "idx_cp1 = np.where(np.isclose(autovalores,ord_autovalores[0]))[0][0]\n",
    "idx_cp2 = np.where(np.isclose(autovalores,ord_autovalores[1]))[0][0]\n",
    "\n",
    "# dados projetados sobre as 2 componentes principais\n",
    "projected_data = X_.dot(autovetores[:, [idx_cp1, idx_cp2]])\n",
    "\n",
    "# criação de um dataframe pandas\n",
    "dict_proj = {'cp1':projected_data[:, 0], 'cp2':projected_data[:, 1], 'class':car_data['class']}"
   ]
  },
  {
   "cell_type": "code",
   "execution_count": null,
   "id": "7a2de43f",
   "metadata": {
    "colab": {
     "base_uri": "https://localhost:8080/",
     "height": 206
    },
    "id": "7a2de43f",
    "outputId": "239bc092-6877-400f-f5f1-8bc0f54a9fc3"
   },
   "outputs": [
    {
     "data": {
      "text/html": [
       "\n",
       "  <div id=\"df-13722c12-4997-4bc5-b135-2f2e2e985d77\">\n",
       "    <div class=\"colab-df-container\">\n",
       "      <div>\n",
       "<style scoped>\n",
       "    .dataframe tbody tr th:only-of-type {\n",
       "        vertical-align: middle;\n",
       "    }\n",
       "\n",
       "    .dataframe tbody tr th {\n",
       "        vertical-align: top;\n",
       "    }\n",
       "\n",
       "    .dataframe thead th {\n",
       "        text-align: right;\n",
       "    }\n",
       "</style>\n",
       "<table border=\"1\" class=\"dataframe\">\n",
       "  <thead>\n",
       "    <tr style=\"text-align: right;\">\n",
       "      <th></th>\n",
       "      <th>cp1</th>\n",
       "      <th>cp2</th>\n",
       "      <th>class</th>\n",
       "    </tr>\n",
       "  </thead>\n",
       "  <tbody>\n",
       "    <tr>\n",
       "      <th>0</th>\n",
       "      <td>1.666667</td>\n",
       "      <td>1.5</td>\n",
       "      <td>0.0</td>\n",
       "    </tr>\n",
       "    <tr>\n",
       "      <th>1</th>\n",
       "      <td>1.666667</td>\n",
       "      <td>1.5</td>\n",
       "      <td>0.0</td>\n",
       "    </tr>\n",
       "    <tr>\n",
       "      <th>2</th>\n",
       "      <td>1.666667</td>\n",
       "      <td>1.5</td>\n",
       "      <td>0.0</td>\n",
       "    </tr>\n",
       "    <tr>\n",
       "      <th>3</th>\n",
       "      <td>1.666667</td>\n",
       "      <td>1.5</td>\n",
       "      <td>0.0</td>\n",
       "    </tr>\n",
       "    <tr>\n",
       "      <th>4</th>\n",
       "      <td>1.666667</td>\n",
       "      <td>1.5</td>\n",
       "      <td>0.0</td>\n",
       "    </tr>\n",
       "  </tbody>\n",
       "</table>\n",
       "</div>\n",
       "      <button class=\"colab-df-convert\" onclick=\"convertToInteractive('df-13722c12-4997-4bc5-b135-2f2e2e985d77')\"\n",
       "              title=\"Convert this dataframe to an interactive table.\"\n",
       "              style=\"display:none;\">\n",
       "        \n",
       "  <svg xmlns=\"http://www.w3.org/2000/svg\" height=\"24px\"viewBox=\"0 0 24 24\"\n",
       "       width=\"24px\">\n",
       "    <path d=\"M0 0h24v24H0V0z\" fill=\"none\"/>\n",
       "    <path d=\"M18.56 5.44l.94 2.06.94-2.06 2.06-.94-2.06-.94-.94-2.06-.94 2.06-2.06.94zm-11 1L8.5 8.5l.94-2.06 2.06-.94-2.06-.94L8.5 2.5l-.94 2.06-2.06.94zm10 10l.94 2.06.94-2.06 2.06-.94-2.06-.94-.94-2.06-.94 2.06-2.06.94z\"/><path d=\"M17.41 7.96l-1.37-1.37c-.4-.4-.92-.59-1.43-.59-.52 0-1.04.2-1.43.59L10.3 9.45l-7.72 7.72c-.78.78-.78 2.05 0 2.83L4 21.41c.39.39.9.59 1.41.59.51 0 1.02-.2 1.41-.59l7.78-7.78 2.81-2.81c.8-.78.8-2.07 0-2.86zM5.41 20L4 18.59l7.72-7.72 1.47 1.35L5.41 20z\"/>\n",
       "  </svg>\n",
       "      </button>\n",
       "      \n",
       "  <style>\n",
       "    .colab-df-container {\n",
       "      display:flex;\n",
       "      flex-wrap:wrap;\n",
       "      gap: 12px;\n",
       "    }\n",
       "\n",
       "    .colab-df-convert {\n",
       "      background-color: #E8F0FE;\n",
       "      border: none;\n",
       "      border-radius: 50%;\n",
       "      cursor: pointer;\n",
       "      display: none;\n",
       "      fill: #1967D2;\n",
       "      height: 32px;\n",
       "      padding: 0 0 0 0;\n",
       "      width: 32px;\n",
       "    }\n",
       "\n",
       "    .colab-df-convert:hover {\n",
       "      background-color: #E2EBFA;\n",
       "      box-shadow: 0px 1px 2px rgba(60, 64, 67, 0.3), 0px 1px 3px 1px rgba(60, 64, 67, 0.15);\n",
       "      fill: #174EA6;\n",
       "    }\n",
       "\n",
       "    [theme=dark] .colab-df-convert {\n",
       "      background-color: #3B4455;\n",
       "      fill: #D2E3FC;\n",
       "    }\n",
       "\n",
       "    [theme=dark] .colab-df-convert:hover {\n",
       "      background-color: #434B5C;\n",
       "      box-shadow: 0px 1px 3px 1px rgba(0, 0, 0, 0.15);\n",
       "      filter: drop-shadow(0px 1px 2px rgba(0, 0, 0, 0.3));\n",
       "      fill: #FFFFFF;\n",
       "    }\n",
       "  </style>\n",
       "\n",
       "      <script>\n",
       "        const buttonEl =\n",
       "          document.querySelector('#df-13722c12-4997-4bc5-b135-2f2e2e985d77 button.colab-df-convert');\n",
       "        buttonEl.style.display =\n",
       "          google.colab.kernel.accessAllowed ? 'block' : 'none';\n",
       "\n",
       "        async function convertToInteractive(key) {\n",
       "          const element = document.querySelector('#df-13722c12-4997-4bc5-b135-2f2e2e985d77');\n",
       "          const dataTable =\n",
       "            await google.colab.kernel.invokeFunction('convertToInteractive',\n",
       "                                                     [key], {});\n",
       "          if (!dataTable) return;\n",
       "\n",
       "          const docLinkHtml = 'Like what you see? Visit the ' +\n",
       "            '<a target=\"_blank\" href=https://colab.research.google.com/notebooks/data_table.ipynb>data table notebook</a>'\n",
       "            + ' to learn more about interactive tables.';\n",
       "          element.innerHTML = '';\n",
       "          dataTable['output_type'] = 'display_data';\n",
       "          await google.colab.output.renderOutput(dataTable, element);\n",
       "          const docLink = document.createElement('div');\n",
       "          docLink.innerHTML = docLinkHtml;\n",
       "          element.appendChild(docLink);\n",
       "        }\n",
       "      </script>\n",
       "    </div>\n",
       "  </div>\n",
       "  "
      ],
      "text/plain": [
       "        cp1  cp2  class\n",
       "0  1.666667  1.5    0.0\n",
       "1  1.666667  1.5    0.0\n",
       "2  1.666667  1.5    0.0\n",
       "3  1.666667  1.5    0.0\n",
       "4  1.666667  1.5    0.0"
      ]
     },
     "execution_count": 8,
     "metadata": {},
     "output_type": "execute_result"
    }
   ],
   "source": [
    "df_proj = pd.DataFrame(dict_proj)\n",
    "df_proj.head()"
   ]
  },
  {
   "cell_type": "markdown",
   "id": "f3571e8d",
   "metadata": {
    "id": "f3571e8d"
   },
   "source": [
    "**Visualização do PCA**"
   ]
  },
  {
   "cell_type": "code",
   "execution_count": null,
   "id": "3fba9318",
   "metadata": {
    "colab": {
     "base_uri": "https://localhost:8080/",
     "height": 279
    },
    "id": "3fba9318",
    "outputId": "f1ba418e-128a-40fc-a213-d31a23b9da07"
   },
   "outputs": [
    {
     "data": {
      "image/png": "[encoded data removed]",
      "text/plain": [
       "<Figure size 432x288 with 1 Axes>"
      ]
     },
     "metadata": {
      "needs_background": "light"
     },
     "output_type": "display_data"
    }
   ],
   "source": [
    "fig, ax = plt.subplots()\n",
    "sns.scatterplot(x='cp1', y='cp2', hue='class', style='class', data=df_proj, ax=ax)\n",
    "plt.xlabel(\"1ª Componente\")\n",
    "plt.ylabel(\"2ª Componente\")\n",
    "plt.show()"
   ]
  },
  {
   "cell_type": "markdown",
   "id": "UO23jWQosGyK",
   "metadata": {
    "id": "UO23jWQosGyK"
   },
   "source": [
    "**Figura com cada classe em uma imagem separada**"
   ]
  },
  {
   "cell_type": "code",
   "execution_count": null,
   "id": "1iqy4_-hphaE",
   "metadata": {
    "colab": {
     "base_uri": "https://localhost:8080/",
     "height": 388
    },
    "id": "1iqy4_-hphaE",
    "outputId": "1acf1740-2c82-4bd0-9743-10d2ad67b485"
   },
   "outputs": [
    {
     "data": {
      "image/png": "[encoded data removed]",
      "text/plain": [
       "<Figure size 720x432 with 4 Axes>"
      ]
     },
     "metadata": {
      "needs_background": "light"
     },
     "output_type": "display_data"
    }
   ],
   "source": [
    "df_unacc = df_proj[df_proj['class']==0.0]\n",
    "df_acc = df_proj[df_proj['class']==1.0]\n",
    "df_good = df_proj[df_proj['class']==2.0]\n",
    "df_vgood = df_proj[df_proj['class']==3.0]\n",
    "\n",
    "fig, ax = plt.subplots(figsize=(10, 6), ncols=2,nrows=2)\n",
    "sns.scatterplot(x='cp1', y='cp2', hue='class', data=df_unacc, ax=ax[0,0])\n",
    "sns.scatterplot(x='cp1', y='cp2', hue='class', data=df_acc, ax=ax[0,1])\n",
    "sns.scatterplot(x='cp1', y='cp2', hue='class', data=df_good, ax=ax[1,0])\n",
    "sns.scatterplot(x='cp1', y='cp2', hue='class', data=df_vgood, ax=ax[1,1])\n",
    "plt.show()"
   ]
  },
  {
   "cell_type": "markdown",
   "id": "jTTTZt8sEZ7l",
   "metadata": {
    "id": "jTTTZt8sEZ7l"
   },
   "source": [
    "**Comentários da solução**:\n",
    "\n",
    "Antes da aplicação do PCA, é necessário que as variáveis de entrada sejam convertidas para valores numéricos. As variáveis da base de dados são categóricas, mas os valores podem ser ordenados.\n",
    "\n",
    "Dessa forma, o primeiro passo foi transformar os valores categóricos para numéricos, que é feito pela função `transformar_dados`. Por exemplo, valores categóricos como *low*, *med*, *high* ou *small*, *med*, *big* passam a ter os valores de $0$, $1$ e $2$.\n",
    "\n",
    "Após a transformação dos dados, foi selecionado as variáveis a serem utilizadas no PCA (6 primeiras colunas). Os valores dessas colunas foram normalizados por meio da subtração da média. Com os dados normalizados, calculou-se a matriz de covariância dos dados utilizando a função `np.cov`. A partir da matriz de covariância, obtem-se os autovalores e autovetores, com a função `np.linalg.eig`.\n",
    "\n",
    "Os índices dos maiores autovalores indicam quais autovetores tem maior significância para representar os dados, mas como esses valores não necessariamente estão ordenados, é feita uma ordenação do maior para o menor autovalor e os autovetores correspondentes são utilizados para a projeção dos dados.\n",
    "\n",
    "\n",
    "**Comentários do gráfico**\n",
    "\n",
    "Pelo 1º gráfico infere-se que existem três grupos de classes com características bem distintas entre si, com a a classe `acc` no canto superior esquerdo, a classe `vgood` no canto inferior esquerdo, e a classe `unacc` do lado direito do gráfico. Entretanto, a classe `good` não aparece no gráfico, o que sugere que a projeção dessa classe pode ter valores iguais à uma das outras classes.\n",
    "\n",
    "De fato, o 2º gráfico, com a projeção de cada uma das classes em uma figura separada, mostra que a classe `unacc` possui alguns pontos (do lado esquerdo) iguais às outras 3 classes; a classe `acc` possui alguns pontos iguais às classes `good` e `vgood` e as classes `good` e `vgood` possuem os mesmo pontos.\n",
    "\n",
    "Assim, o fato de as classes terem pontos compartilhados, indica que a base de dados possui classes que são difícieis de distinguir/separar entre si."
   ]
  },
  {
   "cell_type": "markdown",
   "id": "b83832d2",
   "metadata": {
    "id": "b83832d2"
   },
   "source": [
    "## b)\n",
    "\n",
    "**Factor Loadings**"
   ]
  },
  {
   "cell_type": "code",
   "execution_count": null,
   "id": "f2c19949",
   "metadata": {
    "id": "f2c19949"
   },
   "outputs": [],
   "source": [
    "componentes_autovetores = autovetores[:, [idx_cp1, idx_cp2]]"
   ]
  },
  {
   "cell_type": "code",
   "execution_count": null,
   "id": "3OMm6wXy2P7c",
   "metadata": {
    "colab": {
     "base_uri": "https://localhost:8080/"
    },
    "id": "3OMm6wXy2P7c",
    "outputId": "007264b3-a77b-4916-a709-fb3320227cb6"
   },
   "outputs": [
    {
     "data": {
      "text/plain": [
       "array([[-1.95130107e-16,  1.00000000e+00],\n",
       "       [ 0.00000000e+00,  0.00000000e+00],\n",
       "       [ 0.00000000e+00,  0.00000000e+00],\n",
       "       [-1.00000000e+00,  0.00000000e+00],\n",
       "       [ 0.00000000e+00,  0.00000000e+00],\n",
       "       [ 0.00000000e+00,  0.00000000e+00]])"
      ]
     },
     "execution_count": 22,
     "metadata": {},
     "output_type": "execute_result"
    }
   ],
   "source": [
    "componentes_autovetores"
   ]
  },
  {
   "cell_type": "code",
   "execution_count": null,
   "id": "7677b1ee",
   "metadata": {
    "id": "7677b1ee"
   },
   "outputs": [],
   "source": [
    "normdata = normalize(componentes_autovetores, norm='l2')"
   ]
  },
  {
   "cell_type": "code",
   "execution_count": null,
   "id": "bb0ad1fa",
   "metadata": {
    "colab": {
     "base_uri": "https://localhost:8080/",
     "height": 297
    },
    "id": "bb0ad1fa",
    "outputId": "53db4988-2492-479b-9ee5-3a1f69827a24"
   },
   "outputs": [
    {
     "data": {
      "image/png": "[encoded data removed]",
      "text/plain": [
       "<Figure size 432x288 with 1 Axes>"
      ]
     },
     "metadata": {
      "needs_background": "light"
     },
     "output_type": "display_data"
    }
   ],
   "source": [
    "z = np.zeros((2, 1))\n",
    "variaveis = car_data.columns[:-1]\n",
    "for i, v in enumerate(variaveis):        \n",
    "    aT =  normdata[[i],:].T\n",
    "    concat = np.concatenate([z,aT], axis=1)\n",
    "    x = concat[0]\n",
    "    y = concat[1]\n",
    "    plt.plot(x, y, label=v)\n",
    "plt.xlabel(\"1ª Componente\")\n",
    "plt.ylabel(\"2ª Componente\")\n",
    "plt.legend()\n",
    "plt.tight_layout()\n",
    "plt.show()"
   ]
  },
  {
   "cell_type": "markdown",
   "id": "aaD7Avf83z8F",
   "metadata": {
    "id": "aaD7Avf83z8F"
   },
   "source": [
    "O gráfico do *factor loadings* não mostra que as variáveis são correlacionadas. A variável buying possui correlação positiva muito forte com a segunda componente principal enquanto que a variável *persons* possui um correlação negativa com a primeira componente. As outras variáveis possuem factor loadings iguais à $0$ nas duas componentes."
   ]
  },
  {
   "cell_type": "markdown",
   "id": "c02b3525",
   "metadata": {
    "id": "c02b3525"
   },
   "source": [
    "## c) "
   ]
  },
  {
   "cell_type": "code",
   "execution_count": null,
   "id": "hmi1yrldo-j6",
   "metadata": {
    "id": "hmi1yrldo-j6"
   },
   "outputs": [],
   "source": [
    "def entropia(c):\n",
    "  # normaliza o vetor\n",
    "  c_normalized = c / float(np.sum(c))\n",
    "  # seleciona apenas valores diferentes de 0\n",
    "  c_normalized = c_normalized[np.nonzero(c_normalized)]\n",
    "  # calculo da entropia\n",
    "  H = -sum(c_normalized*np.log2(c_normalized))  \n",
    "  return H\n",
    "\n",
    "def calc_MI(X,Y,bins):\n",
    "  ## Cálculo das probabilidades das variáveis X e Y\n",
    "  # probabilidade de X\n",
    "  c_X = np.histogram(X,bins)[0]\n",
    "  # probilidade de Y\n",
    "  c_Y = np.histogram(Y,bins)[0]\n",
    "  # probabilidade de ambos\n",
    "  c_XY = np.histogram2d(X,Y,bins)[0]\n",
    "\n",
    "  ## Calculo das entropias\n",
    "  H_X = entropia(c_X)\n",
    "  H_Y = entropia(c_Y)\n",
    "  H_XY = entropia(c_XY)\n",
    "  \n",
    "  # cálculo da informação mútua\n",
    "  MI = H_X + H_Y - H_XY\n",
    "  return MI"
   ]
  },
  {
   "cell_type": "code",
   "execution_count": null,
   "id": "cU5WIvf0tdg2",
   "metadata": {
    "colab": {
     "base_uri": "https://localhost:8080/",
     "height": 206
    },
    "id": "cU5WIvf0tdg2",
    "outputId": "40927847-33e3-4376-f0fd-f083f7bff0d2"
   },
   "outputs": [
    {
     "data": {
      "text/html": [
       "\n",
       "  <div id=\"df-ef307c2c-22df-49b1-8727-beac615db09d\">\n",
       "    <div class=\"colab-df-container\">\n",
       "      <div>\n",
       "<style scoped>\n",
       "    .dataframe tbody tr th:only-of-type {\n",
       "        vertical-align: middle;\n",
       "    }\n",
       "\n",
       "    .dataframe tbody tr th {\n",
       "        vertical-align: top;\n",
       "    }\n",
       "\n",
       "    .dataframe thead th {\n",
       "        text-align: right;\n",
       "    }\n",
       "</style>\n",
       "<table border=\"1\" class=\"dataframe\">\n",
       "  <thead>\n",
       "    <tr style=\"text-align: right;\">\n",
       "      <th></th>\n",
       "      <th>buying</th>\n",
       "      <th>maint</th>\n",
       "      <th>doors</th>\n",
       "      <th>persons</th>\n",
       "      <th>lug_boot</th>\n",
       "      <th>safety</th>\n",
       "      <th>class</th>\n",
       "    </tr>\n",
       "  </thead>\n",
       "  <tbody>\n",
       "    <tr>\n",
       "      <th>0</th>\n",
       "      <td>3.0</td>\n",
       "      <td>3.0</td>\n",
       "      <td>2.0</td>\n",
       "      <td>2.0</td>\n",
       "      <td>0.0</td>\n",
       "      <td>0.0</td>\n",
       "      <td>0.0</td>\n",
       "    </tr>\n",
       "    <tr>\n",
       "      <th>1</th>\n",
       "      <td>3.0</td>\n",
       "      <td>3.0</td>\n",
       "      <td>2.0</td>\n",
       "      <td>2.0</td>\n",
       "      <td>0.0</td>\n",
       "      <td>1.0</td>\n",
       "      <td>0.0</td>\n",
       "    </tr>\n",
       "    <tr>\n",
       "      <th>2</th>\n",
       "      <td>3.0</td>\n",
       "      <td>3.0</td>\n",
       "      <td>2.0</td>\n",
       "      <td>2.0</td>\n",
       "      <td>0.0</td>\n",
       "      <td>2.0</td>\n",
       "      <td>0.0</td>\n",
       "    </tr>\n",
       "    <tr>\n",
       "      <th>3</th>\n",
       "      <td>3.0</td>\n",
       "      <td>3.0</td>\n",
       "      <td>2.0</td>\n",
       "      <td>2.0</td>\n",
       "      <td>1.0</td>\n",
       "      <td>0.0</td>\n",
       "      <td>0.0</td>\n",
       "    </tr>\n",
       "    <tr>\n",
       "      <th>4</th>\n",
       "      <td>3.0</td>\n",
       "      <td>3.0</td>\n",
       "      <td>2.0</td>\n",
       "      <td>2.0</td>\n",
       "      <td>1.0</td>\n",
       "      <td>1.0</td>\n",
       "      <td>0.0</td>\n",
       "    </tr>\n",
       "  </tbody>\n",
       "</table>\n",
       "</div>\n",
       "      <button class=\"colab-df-convert\" onclick=\"convertToInteractive('df-ef307c2c-22df-49b1-8727-beac615db09d')\"\n",
       "              title=\"Convert this dataframe to an interactive table.\"\n",
       "              style=\"display:none;\">\n",
       "        \n",
       "  <svg xmlns=\"http://www.w3.org/2000/svg\" height=\"24px\"viewBox=\"0 0 24 24\"\n",
       "       width=\"24px\">\n",
       "    <path d=\"M0 0h24v24H0V0z\" fill=\"none\"/>\n",
       "    <path d=\"M18.56 5.44l.94 2.06.94-2.06 2.06-.94-2.06-.94-.94-2.06-.94 2.06-2.06.94zm-11 1L8.5 8.5l.94-2.06 2.06-.94-2.06-.94L8.5 2.5l-.94 2.06-2.06.94zm10 10l.94 2.06.94-2.06 2.06-.94-2.06-.94-.94-2.06-.94 2.06-2.06.94z\"/><path d=\"M17.41 7.96l-1.37-1.37c-.4-.4-.92-.59-1.43-.59-.52 0-1.04.2-1.43.59L10.3 9.45l-7.72 7.72c-.78.78-.78 2.05 0 2.83L4 21.41c.39.39.9.59 1.41.59.51 0 1.02-.2 1.41-.59l7.78-7.78 2.81-2.81c.8-.78.8-2.07 0-2.86zM5.41 20L4 18.59l7.72-7.72 1.47 1.35L5.41 20z\"/>\n",
       "  </svg>\n",
       "      </button>\n",
       "      \n",
       "  <style>\n",
       "    .colab-df-container {\n",
       "      display:flex;\n",
       "      flex-wrap:wrap;\n",
       "      gap: 12px;\n",
       "    }\n",
       "\n",
       "    .colab-df-convert {\n",
       "      background-color: #E8F0FE;\n",
       "      border: none;\n",
       "      border-radius: 50%;\n",
       "      cursor: pointer;\n",
       "      display: none;\n",
       "      fill: #1967D2;\n",
       "      height: 32px;\n",
       "      padding: 0 0 0 0;\n",
       "      width: 32px;\n",
       "    }\n",
       "\n",
       "    .colab-df-convert:hover {\n",
       "      background-color: #E2EBFA;\n",
       "      box-shadow: 0px 1px 2px rgba(60, 64, 67, 0.3), 0px 1px 3px 1px rgba(60, 64, 67, 0.15);\n",
       "      fill: #174EA6;\n",
       "    }\n",
       "\n",
       "    [theme=dark] .colab-df-convert {\n",
       "      background-color: #3B4455;\n",
       "      fill: #D2E3FC;\n",
       "    }\n",
       "\n",
       "    [theme=dark] .colab-df-convert:hover {\n",
       "      background-color: #434B5C;\n",
       "      box-shadow: 0px 1px 3px 1px rgba(0, 0, 0, 0.15);\n",
       "      filter: drop-shadow(0px 1px 2px rgba(0, 0, 0, 0.3));\n",
       "      fill: #FFFFFF;\n",
       "    }\n",
       "  </style>\n",
       "\n",
       "      <script>\n",
       "        const buttonEl =\n",
       "          document.querySelector('#df-ef307c2c-22df-49b1-8727-beac615db09d button.colab-df-convert');\n",
       "        buttonEl.style.display =\n",
       "          google.colab.kernel.accessAllowed ? 'block' : 'none';\n",
       "\n",
       "        async function convertToInteractive(key) {\n",
       "          const element = document.querySelector('#df-ef307c2c-22df-49b1-8727-beac615db09d');\n",
       "          const dataTable =\n",
       "            await google.colab.kernel.invokeFunction('convertToInteractive',\n",
       "                                                     [key], {});\n",
       "          if (!dataTable) return;\n",
       "\n",
       "          const docLinkHtml = 'Like what you see? Visit the ' +\n",
       "            '<a target=\"_blank\" href=https://colab.research.google.com/notebooks/data_table.ipynb>data table notebook</a>'\n",
       "            + ' to learn more about interactive tables.';\n",
       "          element.innerHTML = '';\n",
       "          dataTable['output_type'] = 'display_data';\n",
       "          await google.colab.output.renderOutput(dataTable, element);\n",
       "          const docLink = document.createElement('div');\n",
       "          docLink.innerHTML = docLinkHtml;\n",
       "          element.appendChild(docLink);\n",
       "        }\n",
       "      </script>\n",
       "    </div>\n",
       "  </div>\n",
       "  "
      ],
      "text/plain": [
       "   buying  maint  doors  persons  lug_boot  safety  class\n",
       "0     3.0    3.0    2.0      2.0       0.0     0.0    0.0\n",
       "1     3.0    3.0    2.0      2.0       0.0     1.0    0.0\n",
       "2     3.0    3.0    2.0      2.0       0.0     2.0    0.0\n",
       "3     3.0    3.0    2.0      2.0       1.0     0.0    0.0\n",
       "4     3.0    3.0    2.0      2.0       1.0     1.0    0.0"
      ]
     },
     "execution_count": 36,
     "metadata": {},
     "output_type": "execute_result"
    }
   ],
   "source": [
    "car_data.head()"
   ]
  },
  {
   "cell_type": "code",
   "execution_count": null,
   "id": "dOP9V4FZtqMS",
   "metadata": {
    "id": "dOP9V4FZtqMS"
   },
   "outputs": [],
   "source": [
    "car_data_M = car_data.values"
   ]
  },
  {
   "cell_type": "code",
   "execution_count": null,
   "id": "REXOF-J1pazh",
   "metadata": {
    "id": "REXOF-J1pazh"
   },
   "outputs": [],
   "source": [
    "dict_MI = {}\n",
    "for i in range(6):\n",
    "  dict_MI[column_names[i]] = calc_MI(car_data_M[:,i], car_data_M[:,-1],bins=7)"
   ]
  },
  {
   "cell_type": "code",
   "execution_count": null,
   "id": "jeYNWOOouJve",
   "metadata": {
    "colab": {
     "base_uri": "https://localhost:8080/"
    },
    "id": "jeYNWOOouJve",
    "outputId": "7e1b9c3f-cd32-4bcc-e750-b1324f51656f"
   },
   "outputs": [
    {
     "data": {
      "text/plain": [
       "[('safety', 0.26218435655426386),\n",
       " ('persons', 0.21966296333990787),\n",
       " ('buying', 0.0964489691696131),\n",
       " ('maint', 0.07370394692148485),\n",
       " ('lug_boot', 0.030008141247605646),\n",
       " ('doors', 0.004485716626632108)]"
      ]
     },
     "execution_count": 35,
     "metadata": {},
     "output_type": "execute_result"
    }
   ],
   "source": [
    "sorted(dict_MI.items(), key=lambda item: item[1], reverse=True)"
   ]
  },
  {
   "cell_type": "markdown",
   "id": "OI1qX8G9vk8Q",
   "metadata": {
    "id": "OI1qX8G9vk8Q"
   },
   "source": [
    "**Discussão**: Através do cálculo da informação mútua, infere-se que, dentre as variáveis de entrada, as variáveis *safety* e *persons* possuem as maiores probabilidades de ocorrerem simultâneamente com a variável alvo ($0.26$ e $0.21$, respectivamente), sendo assim, as variáveis que mais influenciam na classificação os carros de acordo com a 4 classes.\n",
    "\n",
    "As variáveis *buying*, *maint*, *doors* e *lug_boot* possuem valores de informação mútua inferiores à $0.1$, indicando uma probabilidade menor de ocorrerem simultâneamente com a variável alvo. A variável *doors* é a que possui o valor mais baixo (inferior à $0.0$) e seria uma forte candidata à remoção antes da aplicação de alguma ténica de redução de dimensionalidade, por exemplo. \n",
    "\n"
   ]
  }
 ],
 "metadata": {
  "colab": {
   "collapsed_sections": [
    "c02b3525"
   ],
   "name": "L1_1.ipynb",
   "provenance": [],
   "toc_visible": true
  },
  "kernelspec": {
   "display_name": "Python 3 (ipykernel)",
   "language": "python",
   "name": "python3"
  },
  "language_info": {
   "codemirror_mode": {
    "name": "ipython",
    "version": 3
   },
   "file_extension": ".py",
   "mimetype": "text/x-python",
   "name": "python",
   "nbconvert_exporter": "python",
   "pygments_lexer": "ipython3",
   "version": "3.9.2"
  }
 },
 "nbformat": 4,
 "nbformat_minor": 5
}
