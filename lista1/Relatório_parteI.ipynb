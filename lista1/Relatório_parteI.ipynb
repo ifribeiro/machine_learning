{
 "cells": [
  {
   "cell_type": "markdown",
   "id": "4ce6511b",
   "metadata": {},
   "source": [
    "Todos os exercícios que exigiam códigos foram resolvidos na linguagem de Python, no ambiente Jupyter Notebook. Os algoritmos vistos em sala estão implementados no código.\n",
    "\n",
    "Na **Questão 1**, utilizou-se a base de dados [Car Evaluation](https://archive.ics.uci.edu/ml/datasets/Car+Evaluation). Como é uma base com dados categóricos, tais dados foram transformados em dados numéricos com a função `transformar_dados`. Para a **Questão 1a**, como é comum, antes da aplicação do PCA, calculou-se a média dos atributos e diminuiu-se na base de dados original. O PCA foi calculado com as funções `np.cov` e `np.linalg.eig` da biblioteca *numpy*.\n",
    "\n",
    "Para a **Questão 1b**, utilizou-se os autovetores correspondentes às duas primeiras componentes principais encontradas para obtenção do *factor loadings*. Os autovetores foram normalizados e plotados em um gráfico 2d.\n",
    "\n",
    "Na **Questão 1c** criou-se uma função para calcular a entropia de um atributo e uma função para calcular a informação mútua entre dois atributos. O cálculo da entropia é feito após a normalização das probabilidades do atributo. Para obter as probabilidades, a função que calcula a informação mútua utiliza a função `np.histogram` (para um único atributo) e `np.histogram2d` (para dois atributos).\n",
    "\n",
    "\n",
    "A **Questão 2a** consistiu de apenas aplicar o algoritmo [t-SNE](https://lvdmaaten.github.io/tsne/) na base de dados [Haberman](https://archive.ics.uci.edu/ml/datasets/Haberman%27s+Survival). Para a implementação do algoritmo SMOTE, na **Questão 2b**, utilizou-se o algoritmo de vizinhos mais próximos. Após a identificação da classe minoritária, aplicou-se o SMOTE sobre a base de dados e adicionou-se a nova base na base original. Por fim, calculou-se o t-SNE da nova base balanceada.\n",
    "\n",
    "A **Questão 3** foi resolvida com base no que foi estudado em sala de aula.\n",
    "\n",
    "Por fim, na **Questão 4** implementou-se o algoritmo de regressão linear para ser utilizado na base [Auto MPG](https://archive.ics.uci.edu/ml/datasets/Auto+MPG). Entretanto, antes de ser utilizada, a base passou por um processamento, que consistia em separar corretamente os valores correspondentes às colunas. Além disso, removeu-se a última coluna (que era não era do tipo numérico) e valores com \"?\", que também não são numéricos. A implementação da regressão linear foi feita em duas partes. A primeira obtinha os coeficientes da base de dados e a segunda fazia a predição com base nos coeficientes calculados. Assim, para a **Questão 4a** dividiu-se a base em treino e teste e calculou-se o RMSE do modelo de Regressão Linear.\n",
    "\n",
    "Na **Questão 4b**, implementou-se os algoritmos de RSS e RSS_0, para identificação de quais atributos menos relevantes para a base de dados. Assim, removeu-se os atributos identificados e realizou-se uma nova execução do algoritmo de Regressão Linear. Por fim, comparou-se o RMSE do modelo com os atributos reduzidos com o RMSE do modelo com todos os atributos."
   ]
  },
  {
   "cell_type": "code",
   "execution_count": null,
   "id": "01ce40a6",
   "metadata": {},
   "outputs": [],
   "source": []
  }
 ],
 "metadata": {
  "kernelspec": {
   "display_name": "Python 3 (ipykernel)",
   "language": "python",
   "name": "python3"
  },
  "language_info": {
   "codemirror_mode": {
    "name": "ipython",
    "version": 3
   },
   "file_extension": ".py",
   "mimetype": "text/x-python",
   "name": "python",
   "nbconvert_exporter": "python",
   "pygments_lexer": "ipython3",
   "version": "3.9.2"
  }
 },
 "nbformat": 4,
 "nbformat_minor": 5
}
