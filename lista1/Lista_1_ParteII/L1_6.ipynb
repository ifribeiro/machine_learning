{
 "cells": [
  {
   "cell_type": "code",
   "execution_count": null,
   "id": "4faeed60",
   "metadata": {
    "id": "4faeed60"
   },
   "outputs": [],
   "source": [
    "import pandas as pd\n",
    "import numpy as np\n",
    "import time\n",
    "from datetime import timedelta"
   ]
  },
  {
   "cell_type": "code",
   "execution_count": null,
   "id": "d1621b37",
   "metadata": {
    "id": "d1621b37"
   },
   "outputs": [],
   "source": [
    "# leitura dos dados\n",
    "elec_grid = pd.read_csv(\"Data_for_UCI_named.csv\")\n",
    "indices = elec_grid.index.values\n",
    "colunas = list(elec_grid.columns)"
   ]
  },
  {
   "cell_type": "code",
   "execution_count": null,
   "id": "I__vYJahy13k",
   "metadata": {
    "colab": {
     "base_uri": "https://localhost:8080/"
    },
    "id": "I__vYJahy13k",
    "outputId": "71e7c0f9-633e-4095-a627-6396a9de4a9f"
   },
   "outputs": [
    {
     "data": {
      "text/plain": [
       "unstable    6380\n",
       "stable      3620\n",
       "Name: stabf, dtype: int64"
      ]
     },
     "execution_count": 7,
     "metadata": {},
     "output_type": "execute_result"
    }
   ],
   "source": [
    "# distribuição das amostras\n",
    "elec_grid['stabf'].value_counts()"
   ]
  },
  {
   "cell_type": "code",
   "execution_count": null,
   "id": "f9f2f430",
   "metadata": {
    "id": "f9f2f430"
   },
   "outputs": [],
   "source": [
    "elec_grid['stabf'] = stabf"
   ]
  },
  {
   "cell_type": "code",
   "execution_count": null,
   "id": "2372edc7",
   "metadata": {
    "id": "2372edc7"
   },
   "outputs": [],
   "source": [
    "def selecao_treino_teste(dataset, indices):\n",
    "  \"\"\"\n",
    "  Divide a base em treino e teste\n",
    "\n",
    "  Params:\n",
    "    - dataset: dataframe do pandas\n",
    "    - indices: indices da base de dados original\n",
    "  return:\n",
    "    - df_treino\n",
    "    - df_teste\n",
    "    - y_treino\n",
    "    - y_teste\n",
    "  \"\"\"\n",
    "  # escolhe os indices de treino aleatoriamente\n",
    "  idx_treino = np.random.choice(indices,size=8000, replace=False)\n",
    "  # obtem os indices de teste\n",
    "  idx_teste = list(set(indices).difference(idx_treino))\n",
    "  \n",
    "  # selecao dos dataframes de treino e teste\n",
    "  df_treino = elec_grid.iloc[idx_treino]\n",
    "  df_teste = elec_grid.iloc[idx_teste]\n",
    "  y_treino = df_treino['stabf'].values\n",
    "  y_teste = df_teste['stabf'].values\n",
    "  \n",
    "  return df_treino, df_teste, y_treino, y_teste"
   ]
  },
  {
   "cell_type": "markdown",
   "id": "c6b9243b",
   "metadata": {
    "id": "c6b9243b"
   },
   "source": [
    "# a)"
   ]
  },
  {
   "cell_type": "code",
   "execution_count": null,
   "id": "e054777f",
   "metadata": {
    "id": "e054777f"
   },
   "outputs": [],
   "source": [
    "def acuracia(y_real, y_pred):\n",
    "  \"\"\"\n",
    "  Calcula a acuracia com base na predicao de um modelo\n",
    "  \"\"\"\n",
    "  comparacoes = y_real==y_pred\n",
    "  acc = (sum(comparacoes)/len(comparacoes))*100\n",
    "  return acc\n",
    "\n",
    "def revocacao(y_real, y_pred):\n",
    "  \"\"\"\n",
    "  Calcula a revocação com base na predição de um modelo\n",
    "  \"\"\"\n",
    "\n",
    "  TP = 0\n",
    "  FN = 0\n",
    "  for yr, yp in zip(y_real, y_pred):\n",
    "      if (yr=='stable'):\n",
    "          if (yp=='stable'): \n",
    "              TP+=1\n",
    "          else:\n",
    "              FN+=1\n",
    "  R = (TP/(TP+FN))*100\n",
    "          \n",
    "  return R  \n",
    "\n",
    "def precisao(y_real, y_pred):\n",
    "  \"\"\"\n",
    "  Calcula a precisão com base na predição de um modelo\n",
    "  \"\"\"\n",
    "  TP = 0\n",
    "  FP = 0\n",
    "  for yr, yp in zip(y_real, y_pred):\n",
    "      if (yr=='stable'):\n",
    "          if (yp=='stable'): \n",
    "              TP+=1\n",
    "      else:\n",
    "          if(yp=='stable'):\n",
    "              FP+=1\n",
    "  P = (TP/(TP+FP))*100\n",
    "  return P          \n",
    "\n",
    "def treino_rocchio(X_treino, y_treino):\n",
    "  \"\"\"\n",
    "  Realiza o treino do Rocchio\n",
    "\n",
    "  Params:\n",
    "    - X_treino: base de treino\n",
    "    - y_treino: classes da base de treino\n",
    "  \"\"\"  \n",
    "\n",
    "  colunas = list(X_treino.columns)\n",
    "  # classes presentes na base se dados\n",
    "  y_classes = np.unique(y_treino)\n",
    "  u_is = []\n",
    "  # calcula a média dos atributos de cada classe\n",
    "  for y in y_classes:\n",
    "      subsetX = X_treino[X_treino['stabf']==y]\n",
    "      u_i = subsetX[colunas[:-1]].mean().values\n",
    "      u_is.append(u_i)\n",
    "  \n",
    "  return y_classes, u_is\n",
    "\n",
    "def classificacao_rocchio(X_teste, y_classes, u_is, inv_cov):\n",
    "  \"\"\"\n",
    "  Realiza a classificação com um modelo Rocchio\n",
    "\n",
    "  Params:\n",
    "    - X_teste: base de teste\n",
    "    - y_classes: valores únicos das classes disponíveis na base de treino\n",
    "    - u_is: medias dos atributos\n",
    "    - inv_cov: inversa da matriz de covarâncias dos dados\n",
    "  \n",
    "  return:\n",
    "    - pred_classes: classificação da base de teste\n",
    "  \"\"\"\n",
    "\n",
    "  pred_classes = []\n",
    "  # classifica cada amostra presente em X\n",
    "  for x in X_teste:\n",
    "      distancias = [mahalanobis(x, u, inv_cov) for u in u_is]\n",
    "      idx = np.argmin(distancias)\n",
    "      pred_classes.append(y_classes[idx])\n",
    "  return pred_classes\n",
    "\n",
    "def mahalanobis(a_x,b_x, inv):\n",
    "  \"\"\"\n",
    "  Distância de mahalanobis\n",
    "  \"\"\"\n",
    "  x_mu = a_x-b_x\n",
    "  left = np.dot(x_mu, inv)\n",
    "  mahal = np.dot(left, x_mu.T)\n",
    "  return np.sqrt(mahal)"
   ]
  },
  {
   "cell_type": "code",
   "execution_count": null,
   "id": "dfcf9a63",
   "metadata": {
    "colab": {
     "base_uri": "https://localhost:8080/"
    },
    "id": "dfcf9a63",
    "outputId": "d4080099-38c4-4020-9831-1ffd864488b4"
   },
   "outputs": [
    {
     "name": "stdout",
     "output_type": "stream",
     "text": [
      "Acurácia | Precisão\t| Revocação\n",
      "93.03\t|\t85.32\t|\t98.05\n",
      "Tempo: 0.4464843760000008\n"
     ]
    }
   ],
   "source": [
    "# pega os valores da base de dados\n",
    "X = elec_grid[colunas[:-1]].values\n",
    "start_time = time.monotonic()\n",
    "# calcula a matriz de covariancia e sua inversa\n",
    "cov = np.cov(X.T)\n",
    "inv_cov = np.linalg.inv(cov)\n",
    "\n",
    "metricas = {\n",
    "    \"acuracia\":[],\n",
    "    \"revocacao\":[],\n",
    "    \"precisao\": []\n",
    "}\n",
    "# execução dos 5 testes\n",
    "for i in range(5):\n",
    "  # aleatorioamente seleciona as base de treino e teste\n",
    "  df_treino, df_teste, y_treino, y_teste = selecao_treino_teste(elec_grid, indices)\n",
    "  # realiza o treino do rocchio\n",
    "  y_classes, u_is = treino_rocchio(df_treino, y_treino)\n",
    "  # base de teste\n",
    "  X_teste = df_teste[colunas[:-1]].values\n",
    "  # classifica a base de teste\n",
    "  predy_teste = classificacao_rocchio(X_teste, y_classes, u_is, inv_cov)\n",
    "  \n",
    "  ## calcula as metricas\n",
    "  acc = acuracia(y_teste,predy_teste)\n",
    "  rev = revocacao(y_teste, predy_teste)\n",
    "  pre = precisao(y_teste, predy_teste)\n",
    "  metricas['acuracia'].append(acc)\n",
    "  metricas['revocacao'].append(rev)    \n",
    "  metricas['precisao'].append(pre)\n",
    "acc = np.mean(metricas[\"acuracia\"])\n",
    "pre = np.mean(metricas[\"precisao\"])\n",
    "rev = np.mean(metricas[\"revocacao\"])\n",
    "\n",
    "end_time = time.monotonic()\n",
    "\n",
    "print (\"Acurácia | Precisão\\t| Revocação\")\n",
    "\n",
    "print (\"{:.2f}\\t|\\t{:.2f}\\t|\\t{:.2f}\".format(acc,pre,rev))\n",
    "print (\"Tempo: {}\".format(end_time - start_time))"
   ]
  },
  {
   "cell_type": "code",
   "execution_count": null,
   "id": "910e3465",
   "metadata": {
    "colab": {
     "base_uri": "https://localhost:8080/"
    },
    "id": "910e3465",
    "outputId": "a45f8af1-1f95-4715-c64a-ae3ff6bca34d"
   },
   "outputs": [
    {
     "name": "stdout",
     "output_type": "stream",
     "text": [
      "0.007\n"
     ]
    }
   ],
   "source": [
    "minutos = 0.40597203099997614/60\n",
    "print (\"{:.3f}\".format(minutos))"
   ]
  },
  {
   "cell_type": "code",
   "execution_count": null,
   "id": "c98286f5",
   "metadata": {
    "id": "c98286f5"
   },
   "outputs": [],
   "source": [
    "df_treino, df_teste, y_treino, y_teste = selecao_treino_teste(elec_grid, indices)\n",
    "y_classes, u_is = treino_rocchio(df_treino, y_treino)\n",
    "X_teste = df_teste[colunas[:-1]].values"
   ]
  },
  {
   "cell_type": "markdown",
   "id": "a877592f",
   "metadata": {
    "id": "a877592f"
   },
   "source": [
    "# b)"
   ]
  },
  {
   "cell_type": "code",
   "execution_count": null,
   "id": "dde5d81a",
   "metadata": {
    "id": "dde5d81a"
   },
   "outputs": [],
   "source": [
    "def dist_euclidiana(x, y):\n",
    "  \"\"\"\n",
    "  Calcula a distância euclidiana\n",
    "  \"\"\"\n",
    "  return np.linalg.norm(x-y)\n",
    "\n",
    "def get_indices(a,k):\n",
    "  idx = []\n",
    "  for i in range(k):\n",
    "    indice = np.argmin(a)\n",
    "    idx.append(indice)\n",
    "    a[indice] = np.inf\n",
    "  return idx   \n",
    "    \n",
    "def get_class(y):\n",
    "    pred = max(set(y), key=list(y).count)\n",
    "    return pred"
   ]
  },
  {
   "cell_type": "code",
   "execution_count": null,
   "id": "d04fe12f",
   "metadata": {
    "id": "d04fe12f"
   },
   "outputs": [],
   "source": [
    "df_treino, df_teste, y_treino, y_teste = selecao_treino_teste(elec_grid, indices)\n",
    "df_treino_p1 = df_treino.iloc[:4000]\n",
    "df_treino_p2 = df_treino.iloc[4000:]\n",
    "X_treino_p1 = df_treino_p1[colunas[:-1]].values\n",
    "X_treino_p2 = df_treino_p2[colunas[:-1]].values\n",
    "y_treino_p1 = df_treino_p1['stabf'].values\n",
    "y_treino_p2 = df_treino_p2['stabf'].values"
   ]
  },
  {
   "cell_type": "code",
   "execution_count": null,
   "id": "b0e22123",
   "metadata": {
    "id": "b0e22123"
   },
   "outputs": [],
   "source": [
    "def calc_dist_matriz(X,Y):\n",
    "    \"\"\"\n",
    "    Calcula a matriz de distancia entre os valores de X \n",
    "    para cada valor em Y\n",
    "    \"\"\"\n",
    "    m = X.shape[0]\n",
    "    n = Y.shape[0]\n",
    "    M = np.zeros((m, n))\n",
    "    for i in range(m):\n",
    "        for j in range(n):\n",
    "            M[i][j] = dist_euclidiana(X[i], Y[j])\n",
    "    return M       \n",
    "\n",
    "def KNN(matriz_distancias, y_treino, y_teste, k):  \n",
    "    vizinhos = [np.argsort(matriz_distancias[i])[:k] for i in range(len(matriz_distancias))]\n",
    "    y_pred = [get_class(y_treino[v]) for v in vizinhos]\n",
    "    return y_pred\n",
    "\n",
    "def melhor_K(elec_grid, indices):\n",
    "  \"\"\"\n",
    "  Obtem o melhor valor de k para o KNN usando a métrica acurácia\n",
    "\n",
    "  \"\"\"\n",
    "  dict_metricas = {}\n",
    "\n",
    "  for i in range(5):\n",
    "    print (\"Execução {}\".format(i+1))\n",
    "    # otbem novas bases de treino e teste\n",
    "    df_treino, df_teste, y_treino, y_teste = selecao_treino_teste(elec_grid, indices)\n",
    "    # divide a base de treino em duas bases iguais\n",
    "    df_train = df_treino.iloc[:4000]\n",
    "    df_vali  = df_treino.iloc[4000:]\n",
    "    \n",
    "    X_train = df_train[colunas[:-1]].values\n",
    "    X_vali  = df_vali[colunas[:-1]].values\n",
    "    \n",
    "    y_train = df_train['stabf'].values\n",
    "    y_vali  = df_vali['stabf'].values\n",
    "\n",
    "    # calcula matriz de distância\n",
    "    matriz_dist = calc_dist_matriz(X_vali, X_train)\n",
    "    for k in range(1,12,2):\n",
    "      dict_metricas.setdefault(k,{\"a\":[], \"p\":[], \"r\":[]})\n",
    "      # obtem a classe dos k vizinhos mais próximos\n",
    "      y_pred = KNN(matriz_dist, y_train, y_vali, k)\n",
    "\n",
    "      # calcula e salva as métricas\n",
    "      acc = acuracia(y_vali, y_pred)\n",
    "      pre = precisao(y_vali, y_pred)\n",
    "      rec = revocacao(y_vali, y_pred)\n",
    "      dict_metricas[k][\"a\"].append(acc)\n",
    "      dict_metricas[k][\"p\"].append(pre)\n",
    "      dict_metricas[k][\"r\"].append(rec)\n",
    "  melhoracc = 0\n",
    "  melhork = 1\n",
    "  print (\"K\\tAcc\\t|\\tPrec\\t|\\tRecall\")\n",
    "  for k in dict_metricas:\n",
    "    ac = np.mean(dict_metricas[k][\"a\"])\n",
    "    pr = np.mean(dict_metricas[k][\"p\"])\n",
    "    re = np.mean(dict_metricas[k][\"r\"])\n",
    "    if (ac > melhoracc):\n",
    "      melhork=k\n",
    "      melhoracc = ac\n",
    "  print (\"{} \\t{:.2f}\\t|\\t{:.2f}\\t|\\t{:.2f}\".format(melhork, ac, pr, re))\n",
    "  return melhork"
   ]
  },
  {
   "cell_type": "code",
   "execution_count": null,
   "id": "aadf8a18",
   "metadata": {
    "colab": {
     "base_uri": "https://localhost:8080/"
    },
    "id": "aadf8a18",
    "outputId": "435ae738-7fc7-4664-d273-db53edf25630"
   },
   "outputs": [
    {
     "name": "stdout",
     "output_type": "stream",
     "text": [
      "Execução 1\n",
      "Execução 2\n",
      "Execução 3\n",
      "Execução 4\n",
      "Execução 5\n",
      "K\tAcc\t|\tPrec\t|\tRecall\n",
      "11 \t78.80\t|\t75.41\t|\t61.89\n",
      "Tempo: 784.4886422199999s\n"
     ]
    }
   ],
   "source": [
    "start_time = time.monotonic()\n",
    "k = melhor_K(elec_grid, indices)\n",
    "end_time = time.monotonic()\n",
    "print (\"Tempo: {}s\".format(end_time - start_time))"
   ]
  },
  {
   "cell_type": "code",
   "execution_count": null,
   "id": "7B6O8KiSiFWt",
   "metadata": {
    "colab": {
     "base_uri": "https://localhost:8080/"
    },
    "id": "7B6O8KiSiFWt",
    "outputId": "6c45b918-a991-4234-d0d7-b08e769946eb"
   },
   "outputs": [
    {
     "name": "stdout",
     "output_type": "stream",
     "text": [
      "13.075\n"
     ]
    }
   ],
   "source": [
    "minutos = 784.4886422199999/60\n",
    "print (\"{:.3f}\".format(minutos))"
   ]
  },
  {
   "cell_type": "markdown",
   "id": "0326f0e4",
   "metadata": {
    "id": "0326f0e4"
   },
   "source": [
    "# c)"
   ]
  },
  {
   "cell_type": "code",
   "execution_count": null,
   "id": "78e6c80b",
   "metadata": {
    "id": "78e6c80b",
    "scrolled": true
   },
   "outputs": [],
   "source": [
    "def edit_kNN(X,Y, k=1):\n",
    "  \"\"\"\n",
    "  Edit kNN com inserção sequencial\n",
    "\n",
    "  Params:\n",
    "    - X: base de treino\n",
    "    - Y: classes da base de treino\n",
    "    - k: valor de k  a ser aplicado\n",
    "  return:\n",
    "    - adicionados: indices dos valores de X a serem mantidos no KNN\n",
    "  \"\"\"\n",
    "  D_ = []\n",
    "  Y_ = []\n",
    "  # calcula a matrizde distância\n",
    "  md = calc_dist_matriz(X,X)\n",
    "  # faz uma copia da matriz com todos os valores = inf\n",
    "  md_ = np.ones_like(md)*np.inf\n",
    "  indices = np.arange(len(X))\n",
    "  # escolhe os indices aleatoriamente para o algoritmo\n",
    "  indices = np.random.choice(indices,replace=False, size=len(X))\n",
    "  adicionados = []\n",
    "  # percorre os indices\n",
    "  for i in indices:\n",
    "    # primeiro indice sempre é adicionado\n",
    "    if(len(adicionados)==0):\n",
    "      md_[i] = md[i]\n",
    "      md_[:,i] = md[i]\n",
    "      adicionados.append(i)\n",
    "    else:\n",
    "      # evita que o proprio elemento seja visto com mais próximo\n",
    "      md_[i][i] = np.inf\n",
    "      # k vizinhos\n",
    "      vizinhos = np.argsort(md_[i])[:k]\n",
    "      # classes dos vizinhos\n",
    "      y_pred = get_class(Y[vizinhos])\n",
    "      # verifica se foi classificado corretamente\n",
    "      if Y[i] != y_pred:\n",
    "        md_[i] = md[i]\n",
    "        md_[:,i] = md[i]\n",
    "        adicionados.append(i)\n",
    "  return adicionados"
   ]
  },
  {
   "cell_type": "code",
   "execution_count": null,
   "id": "VNto7CK6WzXP",
   "metadata": {
    "colab": {
     "base_uri": "https://localhost:8080/"
    },
    "id": "VNto7CK6WzXP",
    "outputId": "2d1e9a76-41fe-421f-9eeb-1b9e7fcb071c"
   },
   "outputs": [
    {
     "name": "stdout",
     "output_type": "stream",
     "text": [
      "Execução 0\n",
      "Execução 1\n",
      "Execução 2\n",
      "Execução 3\n",
      "Execução 4\n",
      "K\tAcc\t|\tPrec\t|\tRecall\n",
      "11 \t73.15\t|\t63.09\t|\t65.40\n",
      "Tempo: 73.23720541679998\n"
     ]
    }
   ],
   "source": [
    "start_time = time.monotonic()\n",
    "k = 11\n",
    "for i in range(5):\n",
    "  print (\"Execução {}\".format(i))\n",
    "  acuracias = []\n",
    "  precisoes = []\n",
    "  revocacoes = []\n",
    "  # Seleção das bases de treino e teste\n",
    "  df_treino, df_teste, y_train, y_teste = selecao_treino_teste(elec_grid, indices)\n",
    "  # selação dos valores\n",
    "  X_treino = df_treino[colunas[:-1]].values\n",
    "  X_teste = df_teste[colunas[:-1]].values\n",
    "  \n",
    "  # seleção das amostras a serem adicionadas\n",
    "  adicionados = edit_kNN(X_treino, y_train, k=k)\n",
    "  dict_metricas = {}\n",
    "  # seleciona as amostras de Xtreino\n",
    "  X_menor = X_treino[adicionados]\n",
    "  # seleção dos ytreino\n",
    "  y_menor = y_train[adicionados]\n",
    "  # calcula a matriz de distâncias usando a base reduzida\n",
    "  matriz_dist = calc_dist_matriz(X_teste, X_menor)\n",
    "  # classifica a base de teste \n",
    "  y_pred = KNN(matriz_dist, y_menor, y_teste, k)  \n",
    "  # calcula métricas\n",
    "  acc = acuracia(y_teste, y_pred)\n",
    "  pre = precisao(y_teste, y_pred)\n",
    "  rec = revocacao(y_teste, y_pred)\n",
    "  acuracias.append(acc)\n",
    "  precisoes.append(pre)\n",
    "  revocacoes.append(rec)\n",
    "\n",
    "end_time = time.monotonic()\n",
    "print (\"K\\tAcc\\t|\\tPrec\\t|\\tRecall\")\n",
    "print (\"{} \\t{:.2f}\\t|\\t{:.2f}\\t|\\t{:.2f}\".format(k, np.mean(acuracias), np.mean(precisoes), np.mean(revocacoes)))\n",
    "print (\"Tempo: {}\".format((end_time - start_time)/60))"
   ]
  },
  {
   "cell_type": "code",
   "execution_count": null,
   "id": "2cAcqSVRhy2M",
   "metadata": {
    "colab": {
     "base_uri": "https://localhost:8080/"
    },
    "id": "2cAcqSVRhy2M",
    "outputId": "9c65bc66-ee2b-4767-8653-4bb246fc0d0e"
   },
   "outputs": [
    {
     "name": "stdout",
     "output_type": "stream",
     "text": [
      "53.029927\n"
     ]
    }
   ],
   "source": [
    "minutos = 3181.795633755/60\n",
    "print (\"{:3f}\".format(minutos))"
   ]
  },
  {
   "cell_type": "markdown",
   "id": "gQZiwTaIaewO",
   "metadata": {
    "id": "gQZiwTaIaewO"
   },
   "source": [
    "# d)"
   ]
  },
  {
   "cell_type": "markdown",
   "id": "I1CcTqp8f0nA",
   "metadata": {
    "id": "I1CcTqp8f0nA"
   },
   "source": [
    "**Tabela com a média dos resultados de 5 execuções dos modelos implementados, mostrando a Acurácia, Precisão, Revocação e Tempo de execução de cada modelo**.\n",
    "\n",
    "|                   | Rocchio | kNN    | Edit kNN |\n",
    "|-------------------|---------|--------|----------|\n",
    "| Acurácia          | 93.27   | 78.80  | 73.15    |\n",
    "| Precisão          | 85.52   | 75.41  | 63.09    |\n",
    "| Revocação        | 98.36   | 61.89  | 65.40    |\n",
    "| Tempo de Execução (min) | 0.007   | 13.075 | 53.02    |"
   ]
  },
  {
   "cell_type": "markdown",
   "id": "8jvAKFsSjE6a",
   "metadata": {
    "id": "8jvAKFsSjE6a"
   },
   "source": [
    "O Rocchio e o Edit kNN foram treinados com bases com 8000 amostras de treino e 2000 de teste. O kNN foi treinado utilizando uma base 4000 amostras de treino e 4000 de teste.\n",
    "\n",
    "A tabela mostra que o Rocchio foi o modelo com melhores avaliações para todas as métricas utilizadas, além de ser o modelo com execução mais rápida (0.007 minutos).\n",
    "\n",
    "O kNN, apesar de mais robusto, teve desepenho inferior ao Rocchio, e teve Revocação inferior ao Edit kNN.\n",
    "\n",
    "O Edit kNN teve execução mais demorada que o kNN, o que é explicado pelo fato de ter sido treinado com uma base de dados maior. Enquanto o KNN foi treinado com 4000 amostras de treino e teste, a seleção das amostras do Edit KNN utilizou 8000 amostras de treino.\n",
    "\n",
    "Por fim, durante o cálculo das métricas, utilizou-se a classe \"stable\" como sendo a classe \"positiva\". Como essa é a classe minoritária, podemos afirmar que a métrica de acurácia utilizada é relevante. "
   ]
  }
 ],
 "metadata": {
  "colab": {
   "collapsed_sections": [
    "0326f0e4"
   ],
   "name": "L1_6.ipynb",
   "provenance": [],
   "toc_visible": true
  },
  "kernelspec": {
   "display_name": "Python 3 (ipykernel)",
   "language": "python",
   "name": "python3"
  },
  "language_info": {
   "codemirror_mode": {
    "name": "ipython",
    "version": 3
   },
   "file_extension": ".py",
   "mimetype": "text/x-python",
   "name": "python",
   "nbconvert_exporter": "python",
   "pygments_lexer": "ipython3",
   "version": "3.9.2"
  }
 },
 "nbformat": 4,
 "nbformat_minor": 5
}
