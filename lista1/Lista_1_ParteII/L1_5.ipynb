{
 "cells": [
  {
   "cell_type": "code",
   "execution_count": null,
   "id": "27e97e73",
   "metadata": {
    "id": "27e97e73"
   },
   "outputs": [],
   "source": [
    "import numpy as np\n",
    "import pandas as pd\n",
    "import time\n",
    "from datetime import timedelta"
   ]
  },
  {
   "cell_type": "code",
   "execution_count": null,
   "id": "83ccd1a2",
   "metadata": {
    "id": "83ccd1a2"
   },
   "outputs": [],
   "source": [
    "np.random.seed(0)"
   ]
  },
  {
   "cell_type": "code",
   "execution_count": null,
   "id": "3aef8fd8",
   "metadata": {
    "id": "3aef8fd8"
   },
   "outputs": [],
   "source": [
    "def dist_euclidiana(x, y):\n",
    "    dif_xy = x - y\n",
    "    pow_dif = np.power(dif_xy,2)\n",
    "    sum_pow = pow_dif.sum()\n",
    "    dist = np.sqrt(sum_pow)\n",
    "    return dist\n",
    "    \n",
    "def NN(V,X):\n",
    "    indices = []\n",
    "    for v in V:\n",
    "        distancias = []\n",
    "        for x in X:\n",
    "            d = dist_euclidiana(v,x)\n",
    "            distancias.append(d)\n",
    "        ix = np.argmin(distancias)\n",
    "        indices.append(ix)\n",
    "    return indices"
   ]
  },
  {
   "cell_type": "markdown",
   "id": "fe101237",
   "metadata": {
    "id": "fe101237"
   },
   "source": [
    "# 5)"
   ]
  },
  {
   "cell_type": "markdown",
   "id": "e81e221c",
   "metadata": {
    "id": "e81e221c"
   },
   "source": [
    "## a)"
   ]
  },
  {
   "cell_type": "code",
   "execution_count": null,
   "id": "3a12e5d3",
   "metadata": {
    "id": "3a12e5d3"
   },
   "outputs": [],
   "source": [
    "def acuracia(y_real, y_pred):\n",
    "    comparacoes = y_real==y_pred\n",
    "    acc = (sum(comparacoes)/len(comparacoes))*100\n",
    "    return acc\n",
    "\n",
    "def amostragem_estratificada(X, prop_classes):\n",
    "  \"\"\"\n",
    "  Realiza a amostragem estratificada com base nas proporções das classes na base de dados\n",
    "\n",
    "  Params:\n",
    "    - X: Dataframe do pandas\n",
    "    - prop_classes: proporções de cada classe\n",
    "  \"\"\"\n",
    "  # calcula o número de amostras por cada classe\n",
    "  tam_x = round((len(X)-1)/3)\n",
    "  numero_classes = (prop_classes*tam_x)/100\n",
    "  \n",
    "  # separa os numeros e obtem um valor inteiro\n",
    "  nc1 = round(numero_classes[1])\n",
    "  nc2 = round(numero_classes[2])\n",
    "  nc3 = round(numero_classes[3])\n",
    "  \n",
    "  # seleciona as bases de cada classe\n",
    "  classe_1 = X[X[0]==1].index    \n",
    "  classe_2 = X[X[0]==2].index\n",
    "  classe_3 = X[X[0]==3].index\n",
    "  bases = []\n",
    "  for i in range(3):\n",
    "    # seleciona indices aleatorios de cada base\n",
    "    split_base1 = np.random.choice(classe_1,size=nc1, replace=False)\n",
    "    split_base2 = np.random.choice(classe_2,size=nc2, replace=False)\n",
    "    split_base3 = np.random.choice(classe_3,size=nc3, replace=False)\n",
    "\n",
    "    # seleciona as amostras correspondentes\n",
    "    base1 = X.iloc[split_base1]\n",
    "    base2 = X.iloc[split_base2]\n",
    "    base3 = X.iloc[split_base3]\n",
    "    \n",
    "    # une as bases de dados\n",
    "    temp_bases = [base1, base2, base3]\n",
    "    base = pd.concat(temp_bases)    \n",
    "    bases.append(base)\n",
    "  return bases"
   ]
  },
  {
   "cell_type": "code",
   "execution_count": null,
   "id": "20c8c7d7",
   "metadata": {
    "id": "20c8c7d7"
   },
   "outputs": [],
   "source": [
    "def avaliar_atributos(X_treino, X_teste, y_treino, y_teste, atributos):\n",
    "  \"\"\"\n",
    "  Avalia a acuracia de um conjunto de atributos\n",
    "\n",
    "  Params:\n",
    "    - X_treino: base de treino\n",
    "    - X_teste: base de teste\n",
    "    - y_treino: classes da base treino\n",
    "    - y_teste: classes da base de teste\n",
    "    - atributos: lista de atributos\n",
    "  \"\"\"\n",
    "  # seleciona amostras correspondentes aos atributos \n",
    "  X_tr = X_treino[:, atributos]\n",
    "  X_ts = X_teste[:, atributos]\n",
    "  \n",
    "  # classifica a base de treino\n",
    "  vizinhos = NN(X_ts, X_tr)\n",
    "  y_pred = y_treino[vizinhos]\n",
    "  # obtem a acurácia\n",
    "  acc = acuracia(y_teste, y_pred)\n",
    "  return acc\n",
    "\n",
    "def SFS(X_treino, X_teste, y_treino, y_teste, natributos=3):\n",
    "  \"\"\"\n",
    "  Executa o algoritmo Sequential Foward Selection\n",
    "\n",
    "  Params:\n",
    "    - X_treino: base detreino\n",
    "    - X_teste: base de teste\n",
    "    - y_treino: classes da base treino\n",
    "    - y_teste: classes da base de teste\n",
    "    - natributos: número de atributos desejados\n",
    "  \"\"\"\n",
    "\n",
    "  atributos = []\n",
    "  acuracias = []\n",
    "  \n",
    "  colunas = np.arange(1,14)\n",
    "  # encontra o primeiro atributo\n",
    "  for c in colunas:\n",
    "      X_tr = X_treino[:,c]\n",
    "      X_ts = X_teste[:,c]\n",
    "      vizinhos = NN(X_tr, X_ts)\n",
    "      y_pred = y_treino[vizinhos]\n",
    "      acc = acuracia(y_teste,y_pred)\n",
    "      acuracias.append(acc)\n",
    "  melhor_atr = np.argmax(acuracias)+1\n",
    "  # adiciona atributo na lista\n",
    "  atributos.append(melhor_atr)\n",
    "  # encontra o restante dos atributos\n",
    "  for i in range(natributos):\n",
    "      acuracias = []\n",
    "      for c in colunas:\n",
    "          if c not in atributos:\n",
    "              temp_atr = atributos.copy()                \n",
    "              temp_atr.append(c)\n",
    "              X_tr = X_treino[:,temp_atr]\n",
    "              X_ts = X_teste[:,temp_atr]\n",
    "              vizinhos = NN(X_tr, X_ts)\n",
    "              y_pred = y_treino[vizinhos]\n",
    "              acc = acuracia(y_teste,y_pred)\n",
    "          else:\n",
    "              acc = 0\n",
    "          acuracias.append(acc)\n",
    "      # adiciono +1 pois removi o atributo 0 do cálculo\n",
    "      melhor_atr = np.argmax(acuracias)+1\n",
    "      atributos.append(melhor_atr)\n",
    "      \n",
    "  return atributos\n",
    "\n",
    "def SBE(X_treino, X_teste, y_treino, y_teste, natributos = 3):\n",
    "  \"\"\"\n",
    "  Executa o algoritmo Sequential Bacward Elimination\n",
    "\n",
    "  Params:\n",
    "    - X_treino: base detreino\n",
    "    - X_teste: base de teste\n",
    "    - y_treino: classes da base treino\n",
    "    - y_teste: classes da base de teste\n",
    "    - natributos: número de atributos desejados\n",
    "  \"\"\"\n",
    "  colunas = list(np.arange(1,14))\n",
    "  \n",
    "  acuracias = np.zeros(len(colunas))\n",
    "  atributos = colunas.copy()\n",
    "  dict_acc = {}\n",
    "  # obtem o pior atributo\n",
    "  for i in range(len(colunas)):\n",
    "      temp_atributos = colunas.copy()\n",
    "      cr = temp_atributos.pop(i)\n",
    "      X_tr = X_treino[:,temp_atributos]\n",
    "      X_ts = X_teste[:,temp_atributos]\n",
    "      vizinhos = NN(X_tr, X_ts)\n",
    "      y_pred = y_treino[vizinhos]\n",
    "      acc = acuracia(y_teste,y_pred)\n",
    "      acuracias[cr-1] = acc\n",
    "      dict_acc[cr] = acc\n",
    "      \n",
    "      \n",
    "  pior_atr = np.argmax(acuracias) + 1    \n",
    "  \n",
    "  ix_p = atributos.index(pior_atr)\n",
    "  # remove o pior atributo\n",
    "  atributos.pop(ix_p)\n",
    "  \n",
    "  # remove o pior atributo enquanto o numero de atributos não foi alcançado\n",
    "  while (len(atributos)>natributos):\n",
    "      acuracias = np.zeros(len(colunas))        \n",
    "      for i in range(len(atributos)):\n",
    "          temp_atributos = atributos.copy()\n",
    "          cr = temp_atributos.pop(0)\n",
    "          X_tr = X_treino[:,temp_atributos]\n",
    "          X_ts = X_teste[:,temp_atributos]\n",
    "          vizinhos = NN(X_tr, X_ts)\n",
    "          y_pred = y_treino[vizinhos]\n",
    "          acc = acuracia(y_teste,y_pred)\n",
    "          acuracias[cr-1] = acc\n",
    "      pior_atr = np.argmax(acuracias) + 1\n",
    "      ix_p = atributos.index(pior_atr)\n",
    "      atributos.pop(ix_p)\n",
    "          \n",
    "  return atributos"
   ]
  },
  {
   "cell_type": "code",
   "execution_count": null,
   "id": "d8a1dea7",
   "metadata": {
    "id": "d8a1dea7"
   },
   "outputs": [],
   "source": [
    "## colunas\n",
    "# 1) Alcohol (classe) 2) Malic acid 3) Ash 4) Alcalinity of ash 5) Magnesium 6) Total phenols 7) Flavanoids \n",
    "# 8)Nonflavanoid phenols 9) Proanthocyanins 10)Color intensity 11)Hue 12)OD280/OD315 of diluted wines 13)Proline\n",
    "\n",
    "# leitura da base de dados\n",
    "wine_data = pd.read_csv(\"wine.data\", header=None)"
   ]
  },
  {
   "cell_type": "code",
   "execution_count": null,
   "id": "33633b64",
   "metadata": {
    "id": "33633b64",
    "outputId": "108c06c9-1f86-4254-fb69-680c6fb9e2f1"
   },
   "outputs": [
    {
     "data": {
      "text/plain": [
       "2    40.0\n",
       "1    33.0\n",
       "3    27.0\n",
       "Name: 0, dtype: float64"
      ]
     },
     "execution_count": 8,
     "metadata": {},
     "output_type": "execute_result"
    }
   ],
   "source": [
    "# proporção das classes\n",
    "proporcao_classes = round(wine_data[0].value_counts()/(len(wine_data)-1), ndigits=2)*100\n",
    "proporcao_classes"
   ]
  },
  {
   "cell_type": "code",
   "execution_count": null,
   "id": "7ceb834e",
   "metadata": {
    "id": "7ceb834e"
   },
   "outputs": [],
   "source": [
    "def classificacao_NN(base_treino, base_teste):\n",
    "  \"\"\"\n",
    "  Classficador NN\n",
    "\n",
    "  Params:\n",
    "    - base_treino: base de treino\n",
    "    - base_teste: base de teste\n",
    "  \"\"\"\n",
    "  indices = []\n",
    "  for x in base_teste.values:\n",
    "      ix = NN(x, base_treino)\n",
    "      indices.append(ix)\n",
    "  pred_labels = base_treino[0].values[indices]\n",
    "  real_labels = base_teste[0].values\n",
    "  return pred_labels, real_labels"
   ]
  },
  {
   "cell_type": "code",
   "execution_count": null,
   "id": "c1da4055",
   "metadata": {
    "id": "c1da4055"
   },
   "outputs": [],
   "source": [
    "treino, teste, validacao = amostragem_estratificada(wine_data,proporcao_classes)\n",
    "y_treino = treino[0].values\n",
    "y_teste = teste[0].values\n",
    "y_validacao = validacao[0].values\n",
    "\n",
    "# juncao das bases de treino e teste\n",
    "treino_teste = pd.concat([treino,teste])\n",
    "y_treinoteste = np.concatenate([y_treino,y_teste])"
   ]
  },
  {
   "cell_type": "markdown",
   "id": "833c2072",
   "metadata": {
    "id": "833c2072"
   },
   "source": [
    "### SFS"
   ]
  },
  {
   "cell_type": "code",
   "execution_count": null,
   "id": "8f7ebe7c",
   "metadata": {
    "id": "8f7ebe7c",
    "outputId": "b60799cf-42f8-4b0d-9c0c-da5840634fb7"
   },
   "outputs": [
    {
     "name": "stdout",
     "output_type": "stream",
     "text": [
      "Duraçao 0:00:03.050909\n",
      "Acuracia 96.61016949152543\n"
     ]
    }
   ],
   "source": [
    "start_time = time.monotonic()\n",
    "# escolha dos melhores atributos\n",
    "melhores_atributos = SFS(treino.values, teste.values, y_treino, y_teste)\n",
    "# avaliacao dos atributos na terceira base\n",
    "acc_sfs = avaliar_atributos(treino_teste.values, validacao.values, y_treinoteste, y_validacao, melhores_atributos)\n",
    "end_time = time.monotonic()\n",
    "print(\"Duração\", timedelta(seconds=end_time - start_time))\n",
    "print(\"Acuracia\", acc_sfs)"
   ]
  },
  {
   "cell_type": "markdown",
   "id": "967ab7b2",
   "metadata": {
    "id": "967ab7b2"
   },
   "source": [
    "### SBE"
   ]
  },
  {
   "cell_type": "code",
   "execution_count": null,
   "id": "f1ca6e1a",
   "metadata": {
    "id": "f1ca6e1a",
    "outputId": "8582434b-0535-4832-a338-e242ca08771d"
   },
   "outputs": [
    {
     "name": "stdout",
     "output_type": "stream",
     "text": [
      "Duraçao 0:00:05.473326\n",
      "Acuracia 93.22033898305084\n"
     ]
    }
   ],
   "source": [
    "start_time = time.monotonic()\n",
    "melhores_atributos = SBE(treino.values, teste.values, y_treino, y_teste)\n",
    "# juncao das bases de treino e teste\n",
    "treino_teste = pd.concat([treino,teste])\n",
    "y_treinoteste = np.concatenate([y_treino,y_teste])\n",
    "# avaliacao dos atributos na terceira base\n",
    "acc_sbe = avaliar_atributos(treino_teste.values, validacao.values, y_treinoteste, y_validacao, melhores_atributos)\n",
    "end_time = time.monotonic()\n",
    "print(\"Duração\", timedelta(seconds=end_time - start_time))\n",
    "print(\"Acuracia\",acc_sbe)"
   ]
  },
  {
   "cell_type": "markdown",
   "id": "f91bad69",
   "metadata": {
    "id": "f91bad69"
   },
   "source": [
    "## b)"
   ]
  },
  {
   "cell_type": "markdown",
   "id": "35a4d5ff",
   "metadata": {
    "id": "35a4d5ff"
   },
   "source": [
    "### SFS"
   ]
  },
  {
   "cell_type": "code",
   "execution_count": null,
   "id": "bec6250e",
   "metadata": {
    "id": "bec6250e",
    "outputId": "881bcb08-6db5-4602-d444-bc444295d7a4"
   },
   "outputs": [
    {
     "name": "stdout",
     "output_type": "stream",
     "text": [
      "Duração 0:00:05.049044\n",
      "Acuracia 88.13559322033898\n"
     ]
    }
   ],
   "source": [
    "start_time = time.monotonic()\n",
    "# escolha dos melhores atributos\n",
    "melhores_atributos = SFS(treino.values, teste.values, y_treino, y_teste, natributos=8)\n",
    "# avaliacao dos atributos na terceira base\n",
    "acc_sfs = avaliar_atributos(treino_teste.values, validacao.values, y_treinoteste, y_validacao, melhores_atributos)\n",
    "end_time = time.monotonic()\n",
    "print(\"Duração\",timedelta(seconds=end_time - start_time))\n",
    "print(\"Acuracia\",acc_sfs)"
   ]
  },
  {
   "cell_type": "markdown",
   "id": "60d1454d",
   "metadata": {
    "id": "60d1454d"
   },
   "source": [
    "### SBE"
   ]
  },
  {
   "cell_type": "code",
   "execution_count": null,
   "id": "1c84e005",
   "metadata": {
    "id": "1c84e005",
    "outputId": "ad23678f-0b73-4fa2-fbca-691027334ad7"
   },
   "outputs": [
    {
     "name": "stdout",
     "output_type": "stream",
     "text": [
      "Duração 0:00:03.701555\n",
      "Acurácia 86.4406779661017\n"
     ]
    }
   ],
   "source": [
    "start_time = time.monotonic()\n",
    "melhores_atributos = SBE(treino.values, teste.values, y_treino, y_teste,natributos=8)\n",
    "# avaliacao dos atributos na terceira base\n",
    "acc_sbe = avaliar_atributos(treino_teste.values, validacao.values, y_treinoteste, y_validacao, melhores_atributos)\n",
    "end_time = time.monotonic()\n",
    "print (\"Duração\", timedelta(seconds=end_time - start_time))\n",
    "print(\"Acurácia\", acc_sbe)"
   ]
  },
  {
   "cell_type": "markdown",
   "id": "eb387396",
   "metadata": {
    "id": "eb387396"
   },
   "source": [
    "### c)"
   ]
  },
  {
   "cell_type": "markdown",
   "id": "3276cd77",
   "metadata": {
    "id": "3276cd77"
   },
   "source": [
    "**procedimento a)**"
   ]
  },
  {
   "cell_type": "code",
   "execution_count": null,
   "id": "36548853",
   "metadata": {
    "id": "36548853",
    "outputId": "ee7976ae-b637-497f-e830-f9592300c435"
   },
   "outputs": [
    {
     "name": "stdout",
     "output_type": "stream",
     "text": [
      "Duração 0:00:11.433431\n",
      "Acurácia 96.61016949152543\n"
     ]
    }
   ],
   "source": [
    "start_time = time.monotonic()\n",
    "# escolha dos melhores atributos\n",
    "melhores_atributos = SFS(treino_teste.values, treino_teste.values, y_treinoteste, y_treinoteste)\n",
    "# avaliacao dos atributos na terceira base\n",
    "acc_sfs = avaliar_atributos(treino_teste.values, validacao.values, y_treinoteste, y_validacao, melhores_atributos)\n",
    "end_time = time.monotonic()\n",
    "print (\"Duração\", timedelta(seconds=end_time - start_time))\n",
    "print(\"Acurácia\", acc_sfs)"
   ]
  },
  {
   "cell_type": "code",
   "execution_count": null,
   "id": "b0fe49fd",
   "metadata": {
    "id": "b0fe49fd",
    "outputId": "f16beb3f-2506-4359-c84a-f689377f685d"
   },
   "outputs": [
    {
     "name": "stdout",
     "output_type": "stream",
     "text": [
      "Duração 0:00:20.655296\n",
      "Acurácia 83.05084745762711\n"
     ]
    }
   ],
   "source": [
    "start_time = time.monotonic()\n",
    "melhores_atributos = SBE(treino_teste.values, treino_teste.values, y_treinoteste, y_treinoteste)\n",
    "# avaliacao dos atributos na terceira base\n",
    "acc_sbe = avaliar_atributos(treino_teste.values, validacao.values, y_treinoteste, y_validacao, melhores_atributos)\n",
    "end_time = time.monotonic()\n",
    "print (\"Duração\", timedelta(seconds=end_time - start_time))\n",
    "print(\"Acurácia\", acc_sbe)"
   ]
  },
  {
   "cell_type": "markdown",
   "id": "0c6b485f",
   "metadata": {
    "id": "0c6b485f"
   },
   "source": [
    "**procedimento b)**"
   ]
  },
  {
   "cell_type": "code",
   "execution_count": null,
   "id": "58b92817",
   "metadata": {
    "id": "58b92817",
    "outputId": "3613aff6-3827-4d8c-fbcb-a2987fece448"
   },
   "outputs": [
    {
     "name": "stdout",
     "output_type": "stream",
     "text": [
      "Duração 0:00:19.953875\n",
      "Acurácia 86.4406779661017\n"
     ]
    }
   ],
   "source": [
    "start_time = time.monotonic()\n",
    "# escolha dos melhores atributos\n",
    "melhores_atributos = SFS(treino_teste.values, treino_teste.values, y_treinoteste, y_treinoteste,natributos=8)\n",
    "# avaliacao dos atributos na terceira base\n",
    "acc_sfs = avaliar_atributos(treino_teste.values, validacao.values, y_treinoteste, y_validacao, melhores_atributos)\n",
    "end_time = time.monotonic()\n",
    "print (\"Duração\", timedelta(seconds=end_time - start_time))\n",
    "print(\"Acurácia\", acc_sfs)"
   ]
  },
  {
   "cell_type": "code",
   "execution_count": null,
   "id": "c2e65e94",
   "metadata": {
    "id": "c2e65e94",
    "outputId": "faeb5013-6718-4a6c-edef-29a2d144cbd3"
   },
   "outputs": [
    {
     "name": "stdout",
     "output_type": "stream",
     "text": [
      "Duração 0:00:14.004874\n",
      "Acurácia 83.05084745762711\n"
     ]
    }
   ],
   "source": [
    "start_time = time.monotonic()\n",
    "melhores_atributos = SBE(treino_teste.values, treino_teste.values, y_treinoteste, y_treinoteste,natributos=8)\n",
    "\n",
    "# avaliacao dos atributos na terceira base\n",
    "acc_sbe = avaliar_atributos(treino_teste.values, validacao.values, y_treinoteste, y_validacao, melhores_atributos)\n",
    "end_time = time.monotonic()\n",
    "print (\"Duração\", timedelta(seconds=end_time - start_time))\n",
    "print(\"Acurácia\", acc_sbe)"
   ]
  },
  {
   "cell_type": "markdown",
   "id": "01dae932",
   "metadata": {
    "id": "01dae932"
   },
   "source": [
    "A acurácia na terceira parte foi pior do que o resultado obtido nas letras a) e b). Isso ocorre porque utilizar a mesma base como treino e validação, faz com que o modelo classifique com maior acurácia apenas bases praticamente iguais à base utilizada durante o treino, ou seja, o modelo possui pouca generalização."
   ]
  },
  {
   "cell_type": "markdown",
   "id": "349a6386",
   "metadata": {
    "id": "349a6386"
   },
   "source": [
    "### d)\n",
    "\n",
    "**Tabela com tempos de execução (em segundos) dos algoritmos SFS e SBE**\n",
    "\n",
    "|    |    | SFS   | SBE   |\n",
    "|----|----|-------|-------|\n",
    "| a) |    | 3.05  | 5.47  |\n",
    "| b) |    | 5.04  | 3.70  |\n",
    "| c) | a) | 11.43 | 20.65 |\n",
    "|    | b) | 19.95 | 14.00 |\n",
    "\n",
    "Pela tabela notamos que o SFS é mais rápido para a execução do procedimento a) (seleção de 3 atributos). Além disso, o SBE mostra-se mais rápido que o SFS para a seleção de um número grande de atributos. Em outras palavras, para selecionar um número grande de atributos, o SBE seria o método ideal."
   ]
  },
  {
   "cell_type": "code",
   "execution_count": null,
   "id": "c9bbcf4f",
   "metadata": {},
   "outputs": [],
   "source": []
  }
 ],
 "metadata": {
  "colab": {
   "name": "L1_5.ipynb",
   "provenance": []
  },
  "kernelspec": {
   "display_name": "Python 3 (ipykernel)",
   "language": "python",
   "name": "python3"
  },
  "language_info": {
   "codemirror_mode": {
    "name": "ipython",
    "version": 3
   },
   "file_extension": ".py",
   "mimetype": "text/x-python",
   "name": "python",
   "nbconvert_exporter": "python",
   "pygments_lexer": "ipython3",
   "version": "3.9.2"
  }
 },
 "nbformat": 4,
 "nbformat_minor": 5
}
