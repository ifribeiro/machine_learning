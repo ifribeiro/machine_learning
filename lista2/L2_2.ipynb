{
 "cells": [
  {
   "cell_type": "code",
   "execution_count": 2,
   "metadata": {},
   "outputs": [],
   "source": [
    "import numpy as np\n",
    "import pandas as pd\n",
    "from scipy.stats import norm"
   ]
  },
  {
   "cell_type": "code",
   "execution_count": 3,
   "metadata": {},
   "outputs": [
    {
     "data": {
      "text/html": [
       "<div>\n",
       "<style scoped>\n",
       "    .dataframe tbody tr th:only-of-type {\n",
       "        vertical-align: middle;\n",
       "    }\n",
       "\n",
       "    .dataframe tbody tr th {\n",
       "        vertical-align: top;\n",
       "    }\n",
       "\n",
       "    .dataframe thead th {\n",
       "        text-align: right;\n",
       "    }\n",
       "</style>\n",
       "<table border=\"1\" class=\"dataframe\">\n",
       "  <thead>\n",
       "    <tr style=\"text-align: right;\">\n",
       "      <th></th>\n",
       "      <th>0</th>\n",
       "      <th>1</th>\n",
       "      <th>2</th>\n",
       "      <th>3</th>\n",
       "      <th>4</th>\n",
       "    </tr>\n",
       "  </thead>\n",
       "  <tbody>\n",
       "    <tr>\n",
       "      <th>0</th>\n",
       "      <td>B</td>\n",
       "      <td>1</td>\n",
       "      <td>1</td>\n",
       "      <td>1</td>\n",
       "      <td>1</td>\n",
       "    </tr>\n",
       "    <tr>\n",
       "      <th>1</th>\n",
       "      <td>R</td>\n",
       "      <td>1</td>\n",
       "      <td>1</td>\n",
       "      <td>1</td>\n",
       "      <td>2</td>\n",
       "    </tr>\n",
       "    <tr>\n",
       "      <th>2</th>\n",
       "      <td>R</td>\n",
       "      <td>1</td>\n",
       "      <td>1</td>\n",
       "      <td>1</td>\n",
       "      <td>3</td>\n",
       "    </tr>\n",
       "    <tr>\n",
       "      <th>3</th>\n",
       "      <td>R</td>\n",
       "      <td>1</td>\n",
       "      <td>1</td>\n",
       "      <td>1</td>\n",
       "      <td>4</td>\n",
       "    </tr>\n",
       "    <tr>\n",
       "      <th>4</th>\n",
       "      <td>R</td>\n",
       "      <td>1</td>\n",
       "      <td>1</td>\n",
       "      <td>1</td>\n",
       "      <td>5</td>\n",
       "    </tr>\n",
       "  </tbody>\n",
       "</table>\n",
       "</div>"
      ],
      "text/plain": [
       "   0  1  2  3  4\n",
       "0  B  1  1  1  1\n",
       "1  R  1  1  1  2\n",
       "2  R  1  1  1  3\n",
       "3  R  1  1  1  4\n",
       "4  R  1  1  1  5"
      ]
     },
     "execution_count": 3,
     "metadata": {},
     "output_type": "execute_result"
    }
   ],
   "source": [
    "balance_scale = pd.read_csv('balance-scale.data', header=None)\n",
    "balance_scale.head()"
   ]
  },
  {
   "cell_type": "markdown",
   "metadata": {},
   "source": [
    "# a)"
   ]
  },
  {
   "cell_type": "code",
   "execution_count": 4,
   "metadata": {},
   "outputs": [],
   "source": [
    "def naive_bayes(X_teste, classes_probs, medias_classes, stds_classes):\n",
    "    y_hat = []\n",
    "    classes = classes_probs.index\n",
    "    for amostra in X_teste:\n",
    "        pamostra = list()\n",
    "        for c in classes:\n",
    "            medias = medias_classes.loc[c]\n",
    "            stds = stds_classes.loc[c]\n",
    "\n",
    "            probs_variaveis = [norm.pdf(x, medias[i+1], stds[i+1]) for i, x in enumerate(amostra)]\n",
    "            prob = np.prod(probs_variaveis)*classes_probs[c]\n",
    "            pamostra.append(prob)\n",
    "        \n",
    "        idx_classe = np.argmax(pamostra)\n",
    "        y_hat.append(classes[idx_classe])\n",
    "    return y_hat"
   ]
  },
  {
   "cell_type": "code",
   "execution_count": 5,
   "metadata": {},
   "outputs": [],
   "source": [
    "def acuracia(y_real, y_pred):\n",
    "  comparacoes = y_real==y_pred\n",
    "  acc = (sum(comparacoes)/len(comparacoes))*100\n",
    "  return acc\n",
    "\n",
    "def selecao_treino_teste(dataset, prct =0.5):\n",
    "  \"\"\"\n",
    "  Divide a base em treino e teste\n",
    "\n",
    "  Params:\n",
    "    - dataset: dataframe do pandas\n",
    "    - prct: porcentagem da base de treino a ser selecionada\n",
    "  return:\n",
    "    - df_treino\n",
    "    - df_teste\n",
    "  \"\"\"\n",
    "  indices = dataset.index\n",
    "  size = int(prct*len(dataset))\n",
    "  # escolhe os indices de treino aleatoriamente\n",
    "  idx_treino = np.random.choice(indices,size=size, replace=False)\n",
    "  # obtem os indices de teste\n",
    "  idx_teste = list(set(indices).difference(idx_treino))\n",
    "  \n",
    "  # selecao dos dataframes de treino e teste\n",
    "  df_treino = dataset.iloc[idx_treino]\n",
    "  df_teste = dataset.iloc[idx_teste]\n",
    "  \n",
    "  return df_treino, df_teste\n",
    "\n",
    "def exp_naive_gauss(n_iter):\n",
    "  acuracias = []\n",
    "  for i in range(n_iter):\n",
    "    print (\"Teste \", i)\n",
    "    df_treino, df_teste = selecao_treino_teste(balance_scale, prct=.75)\n",
    "    # calcula as medias e desvios padrão\n",
    "    medias_classes = df_treino.groupby(0).mean()\n",
    "    stds_classes = df_treino.groupby(0).std()\n",
    "    # calcula as probabilidades de cada classe\n",
    "    classes_probs = df_treino[0].value_counts()/len(df_treino[0])\n",
    "    \n",
    "    X_teste, y_teste = df_teste[[1,2,3,4]].values, df_teste[0].values\n",
    "    y_pred = naive_bayes(X_teste, classes_probs, medias_classes, stds_classes)\n",
    "    \n",
    "    acc = acuracia(y_teste, y_pred)\n",
    "    acuracias.append(acc)\n",
    "    \n",
    "  print (\"Acurácia média: {:.4f} Desvio padrão Médio: {:.4f}\".format(np.mean(acuracias), np.std(acuracias)))"
   ]
  },
  {
   "cell_type": "code",
   "execution_count": 7,
   "metadata": {},
   "outputs": [
    {
     "name": "stdout",
     "output_type": "stream",
     "text": [
      "Teste  0\n",
      "Teste  1\n",
      "Teste  2\n",
      "Teste  3\n",
      "Teste  4\n",
      "Teste  5\n",
      "Teste  6\n",
      "Teste  7\n",
      "Teste  8\n",
      "Teste  9\n",
      "Acurácia média: 90.6369 Desvio padrão Médio: 2.2438\n"
     ]
    }
   ],
   "source": [
    "exp_naive_gauss(10)"
   ]
  },
  {
   "cell_type": "markdown",
   "metadata": {},
   "source": [
    "# b)"
   ]
  },
  {
   "cell_type": "code",
   "execution_count": 8,
   "metadata": {},
   "outputs": [],
   "source": [
    "def discretizar_atributos(base):\n",
    "    dic_classe_prob = {}\n",
    "    colunas = [1,2,3,4]\n",
    "    intervalos = [1,2,3,4,5]\n",
    "    classes = dict(base[0].value_counts())\n",
    "    for classe in classes:\n",
    "        dic_classe_prob.setdefault(classe, {})\n",
    "        classe_c = base[base[0]==classe]\n",
    "        for c in colunas:\n",
    "            dic_classe_prob[classe].setdefault(c, {})\n",
    "            for intv in intervalos:\n",
    "                t = (intv, intv+1)\n",
    "                valores = classe_c[(classe_c[c]>=t[0]) & (classe_c[c] < t[1])]\n",
    "                dic_classe_prob[classe][c][t] = len(valores)\n",
    "    return dic_classe_prob\n",
    "\n",
    "def classify_discret_prop(dic_classe_prob, X_teste, X_treino, laplace=False):\n",
    "    y_pred = []\n",
    "    intervalos = [1,2,3,4,5]\n",
    "    for amostra in X_teste.values:\n",
    "        colunas = [1,2,3,4]\n",
    "        probs_amostra = {}\n",
    "        for c in dic_classe_prob:\n",
    "            probs = []\n",
    "            for cl in colunas:\n",
    "                valor = amostra[cl]\n",
    "                for intv in intervalos:\n",
    "                    t = (intv, intv+1)            \n",
    "                    if (valor>=t[0] and valor<t[1]):\n",
    "                        if laplace:\n",
    "                            pcl = (dic_classe_prob[c][cl][(t[0],t[1])]+1)/(X_treino.shape[0]+5)\n",
    "                        else:\n",
    "                            pcl = dic_classe_prob[c][cl][(t[0],t[1])]/X_treino.shape[0]\n",
    "                probs.append(pcl)\n",
    "            probs_amostra[c] = sum(probs)\n",
    "        \n",
    "        pred = sorted(probs_amostra.items(), key=lambda item: item[1])[-1][0]\n",
    "        y_pred.append(pred)\n",
    "    \n",
    "    return y_pred\n",
    "\n",
    "def exp_discret_naive(nexp, laplace=False):\n",
    "    accuracies = []\n",
    "    for i in range(nexp):\n",
    "        df_treino, df_teste = selecao_treino_teste(balance_scale, prct=.75)\n",
    "        dic_classe_prob = discretizar_atributos(df_treino)\n",
    "        y_pred = classify_discret_prop(dic_classe_prob, df_teste, df_treino, laplace=laplace)\n",
    "        acc = acuracia(df_teste[0].values, y_pred)\n",
    "        accuracies.append(acc)\n",
    "    m_ = np.mean(accuracies)\n",
    "    d_ = np.std(accuracies)\n",
    "    print (\"Acurácia Média {:.4f}, Desvio Padrão Médio {:.4f}\".format(m_, d_))"
   ]
  },
  {
   "cell_type": "code",
   "execution_count": 9,
   "metadata": {},
   "outputs": [
    {
     "name": "stdout",
     "output_type": "stream",
     "text": [
      "Acurácia Média 90.0637, Desvio Padrão Médio 1.4580\n"
     ]
    }
   ],
   "source": [
    "exp_discret_naive(10)"
   ]
  },
  {
   "cell_type": "markdown",
   "metadata": {},
   "source": [
    "# c)"
   ]
  },
  {
   "cell_type": "code",
   "execution_count": 10,
   "metadata": {},
   "outputs": [
    {
     "name": "stdout",
     "output_type": "stream",
     "text": [
      "Acurácia Média 90.8280, Desvio Padrão Médio 1.9151\n"
     ]
    }
   ],
   "source": [
    "exp_discret_naive(10, laplace=True)"
   ]
  }
 ],
 "metadata": {
  "interpreter": {
   "hash": "916dbcbb3f70747c44a77c7bcd40155683ae19c65e1c03b4aa3499c5328201f1"
  },
  "kernelspec": {
   "display_name": "Python 3.9.2 64-bit",
   "language": "python",
   "name": "python3"
  },
  "language_info": {
   "codemirror_mode": {
    "name": "ipython",
    "version": 3
   },
   "file_extension": ".py",
   "mimetype": "text/x-python",
   "name": "python",
   "nbconvert_exporter": "python",
   "pygments_lexer": "ipython3",
   "version": "3.9.2"
  },
  "orig_nbformat": 4
 },
 "nbformat": 4,
 "nbformat_minor": 2
}
