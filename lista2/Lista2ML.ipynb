{
 "cells": [
  {
   "cell_type": "markdown",
   "metadata": {},
   "source": [
    "# 1"
   ]
  },
  {
   "cell_type": "code",
   "execution_count": 3,
   "metadata": {},
   "outputs": [],
   "source": [
    "import pandas as pd"
   ]
  },
  {
   "cell_type": "code",
   "execution_count": null,
   "metadata": {},
   "outputs": [],
   "source": [
    "car_data = pd.read_csv(\"car.data\", header=None)\n",
    "car_data.head()"
   ]
  },
  {
   "cell_type": "markdown",
   "metadata": {},
   "source": [
    "## a)"
   ]
  },
  {
   "cell_type": "code",
   "execution_count": 14,
   "metadata": {},
   "outputs": [
    {
     "name": "stdout",
     "output_type": "stream",
     "text": [
      "P(x1=med) = 0.25\n",
      "P(x2=low) = 0.25\n"
     ]
    }
   ],
   "source": [
    "n_x1 = car_data[0].value_counts().med\n",
    "n_x2 = car_data[1].value_counts().low\n",
    "\n",
    "p_x1 = n_x1/len(car_data[0])\n",
    "p_x2 = n_x2/len(car_data[1])\n",
    "print (\"P(x1=med) = {}\".format(p_x1))\n",
    "print (\"P(x2=low) = {}\".format(p_x2))"
   ]
  },
  {
   "cell_type": "markdown",
   "metadata": {},
   "source": [
    "## b)"
   ]
  },
  {
   "cell_type": "code",
   "execution_count": 53,
   "metadata": {},
   "outputs": [
    {
     "name": "stdout",
     "output_type": "stream",
     "text": [
      "P(x6=high|x3=2) = 0.333\n",
      "P(x2=low|x4=4) = 0.333\n"
     ]
    }
   ],
   "source": [
    "#x0, x1, x2, x3, x4\n",
    "# calcula as probabilidades condicionais\n",
    "vcounts_p1 = car_data.groupby(2)[5].value_counts()/car_data.groupby(2)[5].count()\n",
    "vcounts_p2 = car_data.groupby(1)[3].value_counts()/car_data.groupby(1)[3].count()\n",
    "\n",
    "# tranforma em dataframe para facilitar indexação\n",
    "df_vcounts_p1 = vcounts_p1.unstack()\n",
    "df_vcounts_p2 = vcounts_p2.unstack()\n",
    "\n",
    "p1 = df_vcounts_p1['high'].loc['2']\n",
    "p2 = df_vcounts_p2['low'].loc['4']\n",
    "\n",
    "print (\"P(x6=high|x3=2) = {:.3f}\".format(p1))\n",
    "print (\"P(x2=low|x4=4) = {:.3f}\".format(p2))"
   ]
  },
  {
   "cell_type": "markdown",
   "metadata": {},
   "source": [
    "## c)"
   ]
  },
  {
   "cell_type": "code",
   "execution_count": 71,
   "metadata": {},
   "outputs": [
    {
     "name": "stdout",
     "output_type": "stream",
     "text": [
      "P(x6=high|x3=2) = 0.250\n",
      "P(x2=low|x4=4) = 0.333\n"
     ]
    }
   ],
   "source": [
    "# calcula as probabilidades condicionais\n",
    "vcounts_c1 = car_data.groupby([1,4])[0].value_counts()/car_data.groupby([1,4])[0].count()\n",
    "vcounts_c2 = car_data.groupby([0,2])[3].value_counts()/car_data.groupby([0,2])[3].count()\n",
    "\n",
    "# transforma em dataframe\n",
    "df_vcounts_c1 = vcounts_c1.unstack()\n",
    "df_vcounts_c2 = vcounts_c2.unstack()\n",
    "\n",
    "p3 = df_vcounts_c1['low'].loc['low','small']\n",
    "p4 = df_vcounts_c2['4'].loc['med','2']\n",
    "print (\"P(x6=high|x3=2) = {:.3f}\".format(p3))\n",
    "print (\"P(x2=low|x4=4) = {:.3f}\".format(p4))"
   ]
  },
  {
   "cell_type": "markdown",
   "metadata": {},
   "source": [
    "## d)"
   ]
  },
  {
   "cell_type": "code",
   "execution_count": 116,
   "metadata": {},
   "outputs": [
    {
     "data": {
      "text/plain": [
       "1      4      0    \n",
       "high   big    high     36\n",
       "              low      36\n",
       "              med      36\n",
       "              vhigh    36\n",
       "       med    high     36\n",
       "              low      36\n",
       "              med      36\n",
       "              vhigh    36\n",
       "       small  high     36\n",
       "              low      36\n",
       "              med      36\n",
       "              vhigh    36\n",
       "low    big    high     36\n",
       "              low      36\n",
       "              med      36\n",
       "              vhigh    36\n",
       "       med    high     36\n",
       "              low      36\n",
       "              med      36\n",
       "              vhigh    36\n",
       "       small  high     36\n",
       "              low      36\n",
       "              med      36\n",
       "              vhigh    36\n",
       "med    big    high     36\n",
       "              low      36\n",
       "              med      36\n",
       "              vhigh    36\n",
       "       med    high     36\n",
       "              low      36\n",
       "              med      36\n",
       "              vhigh    36\n",
       "       small  high     36\n",
       "              low      36\n",
       "              med      36\n",
       "              vhigh    36\n",
       "vhigh  big    high     36\n",
       "              low      36\n",
       "              med      36\n",
       "              vhigh    36\n",
       "       med    high     36\n",
       "              low      36\n",
       "              med      36\n",
       "              vhigh    36\n",
       "       small  high     36\n",
       "              low      36\n",
       "              med      36\n",
       "              vhigh    36\n",
       "Name: 0, dtype: int64"
      ]
     },
     "execution_count": 116,
     "metadata": {},
     "output_type": "execute_result"
    }
   ],
   "source": [
    "car_data.groupby([1,4])[0].value_counts()"
   ]
  },
  {
   "cell_type": "code",
   "execution_count": null,
   "metadata": {},
   "outputs": [],
   "source": []
  },
  {
   "cell_type": "code",
   "execution_count": 109,
   "metadata": {},
   "outputs": [
    {
     "data": {
      "text/plain": [
       "1      4    \n",
       "high   big      144\n",
       "       med      144\n",
       "       small    144\n",
       "low    big      144\n",
       "       med      144\n",
       "       small    144\n",
       "med    big      144\n",
       "       med      144\n",
       "       small    144\n",
       "vhigh  big      144\n",
       "       med      144\n",
       "       small    144\n",
       "Name: 0, dtype: int64"
      ]
     },
     "execution_count": 109,
     "metadata": {},
     "output_type": "execute_result"
    }
   ],
   "source": [
    "car_data.groupby([1,4])[0].count()"
   ]
  },
  {
   "cell_type": "code",
   "execution_count": 94,
   "metadata": {},
   "outputs": [
    {
     "data": {
      "text/plain": [
       "dict_keys(['2', '4', 'more'])"
      ]
     },
     "execution_count": 94,
     "metadata": {},
     "output_type": "execute_result"
    }
   ],
   "source": [
    "dfg.groups.keys()"
   ]
  },
  {
   "cell_type": "code",
   "execution_count": 96,
   "metadata": {},
   "outputs": [],
   "source": [
    "dfg = car_data.groupby(3)[[1,2]]"
   ]
  },
  {
   "cell_type": "code",
   "execution_count": 113,
   "metadata": {},
   "outputs": [
    {
     "data": {
      "text/plain": [
       "1728"
      ]
     },
     "execution_count": 113,
     "metadata": {},
     "output_type": "execute_result"
    }
   ],
   "source": []
  },
  {
   "cell_type": "code",
   "execution_count": 112,
   "metadata": {},
   "outputs": [
    {
     "data": {
      "text/plain": [
       "1      2    \n",
       "high   2        36\n",
       "       3        36\n",
       "       4        36\n",
       "       5more    36\n",
       "low    2        36\n",
       "       3        36\n",
       "       4        36\n",
       "       5more    36\n",
       "med    2        36\n",
       "       3        36\n",
       "       4        36\n",
       "       5more    36\n",
       "vhigh  2        36\n",
       "       3        36\n",
       "       4        36\n",
       "       5more    36\n",
       "dtype: int64"
      ]
     },
     "execution_count": 112,
     "metadata": {},
     "output_type": "execute_result"
    }
   ],
   "source": [
    "dfg.get_group('2')[[1,2]].value_counts()"
   ]
  },
  {
   "cell_type": "code",
   "execution_count": 90,
   "metadata": {},
   "outputs": [
    {
     "name": "stderr",
     "output_type": "stream",
     "text": [
      "/tmp/ipykernel_12004/3193279108.py:1: FutureWarning: Indexing with multiple keys (implicitly converted to a tuple of keys) will be deprecated, use a list instead.\n",
      "  car_data.groupby(1)[1,2].unstack()\n"
     ]
    },
    {
     "ename": "AttributeError",
     "evalue": "'DataFrameGroupBy' object has no attribute 'unstack'",
     "output_type": "error",
     "traceback": [
      "\u001b[0;31m---------------------------------------------------------------------------\u001b[0m",
      "\u001b[0;31mAttributeError\u001b[0m                            Traceback (most recent call last)",
      "\u001b[0;32m/tmp/ipykernel_12004/3193279108.py\u001b[0m in \u001b[0;36m<module>\u001b[0;34m\u001b[0m\n\u001b[0;32m----> 1\u001b[0;31m \u001b[0mcar_data\u001b[0m\u001b[0;34m.\u001b[0m\u001b[0mgroupby\u001b[0m\u001b[0;34m(\u001b[0m\u001b[0;36m1\u001b[0m\u001b[0;34m)\u001b[0m\u001b[0;34m[\u001b[0m\u001b[0;36m1\u001b[0m\u001b[0;34m,\u001b[0m\u001b[0;36m2\u001b[0m\u001b[0;34m]\u001b[0m\u001b[0;34m.\u001b[0m\u001b[0munstack\u001b[0m\u001b[0;34m(\u001b[0m\u001b[0;34m)\u001b[0m\u001b[0;34m\u001b[0m\u001b[0;34m\u001b[0m\u001b[0m\n\u001b[0m",
      "\u001b[0;32m~/.local/lib/python3.9/site-packages/pandas/core/groupby/groupby.py\u001b[0m in \u001b[0;36m__getattr__\u001b[0;34m(self, attr)\u001b[0m\n\u001b[1;32m    909\u001b[0m             \u001b[0;32mreturn\u001b[0m \u001b[0mself\u001b[0m\u001b[0;34m[\u001b[0m\u001b[0mattr\u001b[0m\u001b[0;34m]\u001b[0m\u001b[0;34m\u001b[0m\u001b[0;34m\u001b[0m\u001b[0m\n\u001b[1;32m    910\u001b[0m \u001b[0;34m\u001b[0m\u001b[0m\n\u001b[0;32m--> 911\u001b[0;31m         raise AttributeError(\n\u001b[0m\u001b[1;32m    912\u001b[0m             \u001b[0;34mf\"'{type(self).__name__}' object has no attribute '{attr}'\"\u001b[0m\u001b[0;34m\u001b[0m\u001b[0;34m\u001b[0m\u001b[0m\n\u001b[1;32m    913\u001b[0m         )\n",
      "\u001b[0;31mAttributeError\u001b[0m: 'DataFrameGroupBy' object has no attribute 'unstack'"
     ]
    }
   ],
   "source": [
    "car_data.groupby(1)[1]"
   ]
  },
  {
   "cell_type": "code",
   "execution_count": null,
   "metadata": {},
   "outputs": [],
   "source": []
  }
 ],
 "metadata": {
  "interpreter": {
   "hash": "916dbcbb3f70747c44a77c7bcd40155683ae19c65e1c03b4aa3499c5328201f1"
  },
  "kernelspec": {
   "display_name": "Python 3.9.2 64-bit",
   "language": "python",
   "name": "python3"
  },
  "language_info": {
   "codemirror_mode": {
    "name": "ipython",
    "version": 3
   },
   "file_extension": ".py",
   "mimetype": "text/x-python",
   "name": "python",
   "nbconvert_exporter": "python",
   "pygments_lexer": "ipython3",
   "version": "3.9.2"
  },
  "orig_nbformat": 4
 },
 "nbformat": 4,
 "nbformat_minor": 2
}
