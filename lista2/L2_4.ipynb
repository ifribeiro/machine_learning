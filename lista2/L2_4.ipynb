{
 "cells": [
  {
   "cell_type": "code",
   "execution_count": 166,
   "metadata": {},
   "outputs": [],
   "source": [
    "import pandas as pd\n",
    "import numpy as np"
   ]
  },
  {
   "cell_type": "code",
   "execution_count": 263,
   "metadata": {},
   "outputs": [],
   "source": [
    "colunas = ['buying', 'maint', 'doors', 'persons', 'lug_boot', 'safety', 'class']\n",
    "car_data = pd.read_csv(\"car.data\", names=colunas)"
   ]
  },
  {
   "cell_type": "code",
   "execution_count": 126,
   "metadata": {},
   "outputs": [],
   "source": [
    "def entropia(c):\n",
    "  # normaliza o vetor\n",
    "  c_normalized = c / float(np.sum(c))\n",
    "  # seleciona apenas valores diferentes de 0\n",
    "  c_normalized = c_normalized[np.nonzero(c_normalized)]\n",
    "  # calculo da entropia\n",
    "  H = -sum(c_normalized*np.log2(c_normalized))  \n",
    "  return H\n",
    "\n",
    "def selecao_treino_teste(dataset, prct =0.5):\n",
    "  \"\"\"\n",
    "  Divide a base em treino e teste\n",
    "\n",
    "  Params:\n",
    "    - dataset: dataframe do pandas\n",
    "    - prct: porcentagem da base de treino a ser selecionada\n",
    "  return:\n",
    "    - df_treino\n",
    "    - df_teste\n",
    "  \"\"\"\n",
    "  indices = dataset.index\n",
    "  size = int(prct*len(dataset))\n",
    "  # escolhe os indices de treino aleatoriamente\n",
    "  idx_treino = np.random.choice(indices,size=size, replace=False)\n",
    "  # obtem os indices de teste\n",
    "  idx_teste = list(set(indices).difference(idx_treino))\n",
    "  \n",
    "  # selecao dos dataframes de treino e teste\n",
    "  df_treino = dataset.iloc[idx_treino]\n",
    "  df_teste = dataset.iloc[idx_teste]\n",
    "  \n",
    "  return df_treino, df_teste\n",
    "  \n",
    "def acuracia(y_real, y_pred):\n",
    "    comparacoes = y_real==y_pred\n",
    "    acc = (sum(comparacoes)/len(comparacoes))*100\n",
    "    return acc"
   ]
  },
  {
   "cell_type": "code",
   "execution_count": 1,
   "metadata": {},
   "outputs": [],
   "source": [
    "def ganho(df, v, ht, tglabel=None):\n",
    "    \"\"\"\n",
    "    Calcula o ganho de informação\n",
    "    \"\"\"\n",
    "    counts_c = df[v].value_counts()\n",
    "    classes = list(counts_c.index)\n",
    "    gain = ht\n",
    "    for c in classes:\n",
    "        vc = df[df[v]==c]\n",
    "        prop_v = np.array(vc[tglabel].value_counts()/vc.shape[0])\n",
    "        htv = entropia(prop_v)\n",
    "        shtv = (counts_c.loc[c]/df.shape[0])*htv    \n",
    "        gain -= shtv\n",
    "    return gain\n",
    "\n",
    "def get_root(df, variaveis, tglabel=None):\n",
    "    \"\"\"\n",
    "    Verifica qual atributo será a próxima raiz\n",
    "    \"\"\"\n",
    "    ht = entropia(np.array(df[tglabel].value_counts()/df.shape[0]))    \n",
    "    ganhos = [ganho(df, v, ht, tglabel) for v in variaveis]\n",
    "    return variaveis[np.argmax(ganhos)]\n",
    "\n",
    "def build_tree(df, variaveis, tg_label=6, treedepth=0):\n",
    "    \"\"\"\n",
    "    Constroí a arvore de decisão usando o ganho de informação\n",
    "    \"\"\"\n",
    "\n",
    "    root = {}    \n",
    "    prop = df[tg_label].value_counts()/df.shape[0]\n",
    "    # retorna um no folha\n",
    "    if (len(variaveis)==0) or (treedepth>=3):\n",
    "        classes, counts = np.unique(df[tg_label], return_counts=True)\n",
    "        root[classes[np.argmax(counts)]] = {}\n",
    "        return root\n",
    "    # retorna um no folha com uma única decisão\n",
    "    elif(len(prop)==1):\n",
    "        root[prop.index[0]] = {}\n",
    "        return root\n",
    "    else:\n",
    "        r = get_root(df, variaveis, tg_label)\n",
    "        V = df[r].unique()\n",
    "        root.setdefault(r,{})\n",
    "        for vi in V:\n",
    "            # cria uma nova ramificação\n",
    "            root[r][vi] = {}\n",
    "            df_vi = df[df[r]==vi]\n",
    "            if (len(df_vi)==0):\n",
    "                classes, counts = np.unique(df[tg_label], return_counts=True)\n",
    "                classe = classes[np.argmax(counts)]\n",
    "                root[r][vi] = classe\n",
    "            else:\n",
    "                variaveis = list(set(variaveis).difference([r]))\n",
    "                root[r][vi] = build_tree(df_vi, variaveis, tg_label=tg_label, treedepth=treedepth+1)\n",
    "    return root\n",
    "\n",
    "def predict(tree, root, x):\n",
    "    \"\"\"\n",
    "    Realiza a predição usando uma árvore\n",
    "    \"\"\"\n",
    "    keys = list(tree[root].keys())\n",
    "    # se a raiz nao tem filhos é um no folha\n",
    "    if len(keys)==0:\n",
    "        return root\n",
    "    # percorre a arvore recursivamente com base nos atributos da amostra\n",
    "    tree = tree[root][x[root]]\n",
    "    nr = list(tree.keys())[0]\n",
    "    return predict(tree, nr, x) \n",
    "\n",
    "def print_tree(tree, root, vars={}, deepth=0):\n",
    "    \"\"\"\n",
    "    Imprime os atributos de uma árvore (ignora as ramificações)\n",
    "    \"\"\"\n",
    "    keys = list(tree[root].keys())\n",
    "    vars.setdefault(deepth,[])\n",
    "    vars[deepth].append(root)\n",
    "    if(deepth>=2):\n",
    "        return vars\n",
    "\n",
    "    for k in keys:\n",
    "        next_node = list(tree[root][k].keys())[0]\n",
    "        ntree = tree[root][k]\n",
    "        print_tree(ntree, next_node, vars, deepth=deepth+1)\n",
    "    return vars"
   ]
  },
  {
   "cell_type": "code",
   "execution_count": 264,
   "metadata": {},
   "outputs": [],
   "source": [
    "# separacao em teste e treino\n",
    "df_treino, df_teste = selecao_treino_teste(car_data, 0.75)\n",
    "tree_car = build_tree(df_treino, colunas[:-1], tg_label='class')"
   ]
  },
  {
   "cell_type": "code",
   "execution_count": 295,
   "metadata": {},
   "outputs": [
    {
     "name": "stdout",
     "output_type": "stream",
     "text": [
      "Acuracia 80.32407407407408\n"
     ]
    }
   ],
   "source": [
    "y_pred = []\n",
    "for i in df_teste.index:\n",
    "    y_pred.append(predict(tree_car, 'safety', df_teste.loc[i]))\n",
    "acc = acuracia(y_pred, df_teste['class'].values)\n",
    "print (\"Acuracia\", acc)"
   ]
  },
  {
   "cell_type": "markdown",
   "metadata": {},
   "source": [
    "## Estrutura da arvore"
   ]
  },
  {
   "cell_type": "code",
   "execution_count": 281,
   "metadata": {},
   "outputs": [
    {
     "data": {
      "text/plain": [
       "{'safety': {'med': {'persons': {'2': {'unacc': {}},\n",
       "    'more': {'buying': {'vhigh': {'unacc': {}},\n",
       "      'med': {'acc': {}},\n",
       "      'low': {'acc': {}},\n",
       "      'high': {'unacc': {}}}},\n",
       "    '4': {'buying': {'low': {'acc': {}},\n",
       "      'vhigh': {'unacc': {}},\n",
       "      'high': {'unacc': {}},\n",
       "      'med': {'acc': {}}}}}},\n",
       "  'low': {'unacc': {}},\n",
       "  'high': {'persons': {'2': {'unacc': {}},\n",
       "    '4': {'buying': {'low': {'acc': {}},\n",
       "      'high': {'acc': {}},\n",
       "      'vhigh': {'acc': {}},\n",
       "      'med': {'acc': {}}}},\n",
       "    'more': {'buying': {'high': {'acc': {}},\n",
       "      'med': {'acc': {}},\n",
       "      'low': {'vgood': {}},\n",
       "      'vhigh': {'unacc': {}}}}}}}}"
      ]
     },
     "execution_count": 281,
     "metadata": {},
     "output_type": "execute_result"
    }
   ],
   "source": [
    "tree_car"
   ]
  },
  {
   "cell_type": "markdown",
   "metadata": {},
   "source": [
    "# b)"
   ]
  },
  {
   "cell_type": "markdown",
   "metadata": {},
   "source": [
    "# c)"
   ]
  },
  {
   "cell_type": "code",
   "execution_count": 296,
   "metadata": {},
   "outputs": [],
   "source": [
    "# obtencao de 2 arvores\n",
    "arvores = []\n",
    "for i in range(2):\n",
    "    df_treino, df_teste = selecao_treino_teste(car_data, 0.75)\n",
    "    t = build_tree(df_treino, colunas[:-1], tg_label='class')\n",
    "    arvores.append(t)"
   ]
  },
  {
   "cell_type": "code",
   "execution_count": 307,
   "metadata": {},
   "outputs": [
    {
     "data": {
      "text/plain": [
       "{0: ['safety'],\n",
       " 1: ['persons', 'unacc', 'persons'],\n",
       " 2: ['unacc', 'buying', 'buying', 'unacc', 'buying', 'buying']}"
      ]
     },
     "execution_count": 307,
     "metadata": {},
     "output_type": "execute_result"
    }
   ],
   "source": [
    "vars = {}\n",
    "print_tree(tree_car, 'safety', vars)"
   ]
  },
  {
   "cell_type": "code",
   "execution_count": 308,
   "metadata": {},
   "outputs": [
    {
     "data": {
      "text/plain": [
       "{0: ['safety'],\n",
       " 1: ['persons', 'persons', 'unacc'],\n",
       " 2: ['buying', 'buying', 'unacc', 'buying', 'buying', 'unacc']}"
      ]
     },
     "execution_count": 308,
     "metadata": {},
     "output_type": "execute_result"
    }
   ],
   "source": [
    "print_tree(arvores[0], 'safety', vars={})"
   ]
  },
  {
   "cell_type": "code",
   "execution_count": 309,
   "metadata": {},
   "outputs": [
    {
     "data": {
      "text/plain": [
       "{0: ['safety'],\n",
       " 1: ['persons', 'persons', 'unacc'],\n",
       " 2: ['buying', 'buying', 'unacc', 'buying', 'unacc', 'buying']}"
      ]
     },
     "execution_count": 309,
     "metadata": {},
     "output_type": "execute_result"
    }
   ],
   "source": [
    "print_tree(arvores[1], 'safety', vars={})"
   ]
  },
  {
   "cell_type": "markdown",
   "metadata": {},
   "source": [
    "### R:\n",
    "A estrutura das árvores foram consistentes para os 2 níveis"
   ]
  }
 ],
 "metadata": {
  "interpreter": {
   "hash": "916dbcbb3f70747c44a77c7bcd40155683ae19c65e1c03b4aa3499c5328201f1"
  },
  "kernelspec": {
   "display_name": "Python 3.9.2 64-bit",
   "language": "python",
   "name": "python3"
  },
  "language_info": {
   "codemirror_mode": {
    "name": "ipython",
    "version": 3
   },
   "file_extension": ".py",
   "mimetype": "text/x-python",
   "name": "python",
   "nbconvert_exporter": "python",
   "pygments_lexer": "ipython3",
   "version": "3.9.2"
  },
  "orig_nbformat": 4
 },
 "nbformat": 4,
 "nbformat_minor": 2
}
