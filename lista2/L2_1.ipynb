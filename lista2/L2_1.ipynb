{
 "cells": [
  {
   "cell_type": "markdown",
   "metadata": {},
   "source": [
    "# 1"
   ]
  },
  {
   "cell_type": "code",
   "execution_count": 1,
   "metadata": {},
   "outputs": [],
   "source": [
    "import pandas as pd"
   ]
  },
  {
   "cell_type": "code",
   "execution_count": 2,
   "metadata": {},
   "outputs": [
    {
     "data": {
      "text/html": [
       "<div>\n",
       "<style scoped>\n",
       "    .dataframe tbody tr th:only-of-type {\n",
       "        vertical-align: middle;\n",
       "    }\n",
       "\n",
       "    .dataframe tbody tr th {\n",
       "        vertical-align: top;\n",
       "    }\n",
       "\n",
       "    .dataframe thead th {\n",
       "        text-align: right;\n",
       "    }\n",
       "</style>\n",
       "<table border=\"1\" class=\"dataframe\">\n",
       "  <thead>\n",
       "    <tr style=\"text-align: right;\">\n",
       "      <th></th>\n",
       "      <th>0</th>\n",
       "      <th>1</th>\n",
       "      <th>2</th>\n",
       "      <th>3</th>\n",
       "      <th>4</th>\n",
       "      <th>5</th>\n",
       "      <th>6</th>\n",
       "    </tr>\n",
       "  </thead>\n",
       "  <tbody>\n",
       "    <tr>\n",
       "      <th>0</th>\n",
       "      <td>vhigh</td>\n",
       "      <td>vhigh</td>\n",
       "      <td>2</td>\n",
       "      <td>2</td>\n",
       "      <td>small</td>\n",
       "      <td>low</td>\n",
       "      <td>unacc</td>\n",
       "    </tr>\n",
       "    <tr>\n",
       "      <th>1</th>\n",
       "      <td>vhigh</td>\n",
       "      <td>vhigh</td>\n",
       "      <td>2</td>\n",
       "      <td>2</td>\n",
       "      <td>small</td>\n",
       "      <td>med</td>\n",
       "      <td>unacc</td>\n",
       "    </tr>\n",
       "    <tr>\n",
       "      <th>2</th>\n",
       "      <td>vhigh</td>\n",
       "      <td>vhigh</td>\n",
       "      <td>2</td>\n",
       "      <td>2</td>\n",
       "      <td>small</td>\n",
       "      <td>high</td>\n",
       "      <td>unacc</td>\n",
       "    </tr>\n",
       "    <tr>\n",
       "      <th>3</th>\n",
       "      <td>vhigh</td>\n",
       "      <td>vhigh</td>\n",
       "      <td>2</td>\n",
       "      <td>2</td>\n",
       "      <td>med</td>\n",
       "      <td>low</td>\n",
       "      <td>unacc</td>\n",
       "    </tr>\n",
       "    <tr>\n",
       "      <th>4</th>\n",
       "      <td>vhigh</td>\n",
       "      <td>vhigh</td>\n",
       "      <td>2</td>\n",
       "      <td>2</td>\n",
       "      <td>med</td>\n",
       "      <td>med</td>\n",
       "      <td>unacc</td>\n",
       "    </tr>\n",
       "  </tbody>\n",
       "</table>\n",
       "</div>"
      ],
      "text/plain": [
       "       0      1  2  3      4     5      6\n",
       "0  vhigh  vhigh  2  2  small   low  unacc\n",
       "1  vhigh  vhigh  2  2  small   med  unacc\n",
       "2  vhigh  vhigh  2  2  small  high  unacc\n",
       "3  vhigh  vhigh  2  2    med   low  unacc\n",
       "4  vhigh  vhigh  2  2    med   med  unacc"
      ]
     },
     "execution_count": 2,
     "metadata": {},
     "output_type": "execute_result"
    }
   ],
   "source": [
    "car_data = pd.read_csv(\"car.data\", header=None)\n",
    "car_data.head()"
   ]
  },
  {
   "cell_type": "markdown",
   "metadata": {},
   "source": [
    "## a)"
   ]
  },
  {
   "cell_type": "code",
   "execution_count": 3,
   "metadata": {},
   "outputs": [
    {
     "name": "stdout",
     "output_type": "stream",
     "text": [
      "P(x1=med) = 0.25\n",
      "P(x2=low) = 0.25\n"
     ]
    }
   ],
   "source": [
    "n_x1 = car_data[0].value_counts().med\n",
    "n_x2 = car_data[1].value_counts().low\n",
    "\n",
    "p_x1 = n_x1/len(car_data[0])\n",
    "p_x2 = n_x2/len(car_data[1])\n",
    "print (\"P(x1=med) = {}\".format(p_x1))\n",
    "print (\"P(x2=low) = {}\".format(p_x2))"
   ]
  },
  {
   "cell_type": "markdown",
   "metadata": {},
   "source": [
    "## b)"
   ]
  },
  {
   "cell_type": "code",
   "execution_count": 6,
   "metadata": {},
   "outputs": [
    {
     "name": "stdout",
     "output_type": "stream",
     "text": [
      "P(x6=high|x3=2) = 0.333\n",
      "P(x2=low|x4=4) = 0.250\n"
     ]
    }
   ],
   "source": [
    "#x0, x1, x2, x3, x4\n",
    "# calcula as probabilidades condicionais\n",
    "vcounts_p1 = car_data.groupby(2)[5].value_counts()/car_data.groupby(2)[5].count()\n",
    "vcounts_p2 = car_data.groupby(3)[1].value_counts()/car_data.groupby(3)[1].count()\n",
    "\n",
    "# tranforma em dataframe para facilitar indexação\n",
    "df_vcounts_p1 = vcounts_p1.unstack()\n",
    "df_vcounts_p2 = vcounts_p2.unstack()\n",
    "\n",
    "p1 = df_vcounts_p1['high'].loc['2']\n",
    "p2 = df_vcounts_p2['low'].loc['4']\n",
    "\n",
    "print (\"P(x6=high|x3=2) = {:.3f}\".format(p1))\n",
    "print (\"P(x2=low|x4=4) = {:.3f}\".format(p2))"
   ]
  },
  {
   "cell_type": "markdown",
   "metadata": {},
   "source": [
    "## c)"
   ]
  },
  {
   "cell_type": "code",
   "execution_count": 9,
   "metadata": {},
   "outputs": [
    {
     "name": "stdout",
     "output_type": "stream",
     "text": [
      "P(x1=low|x2=low,x5=small) = 0.250\n",
      "P(x4=4|x1=med,x3=2) = 0.333\n"
     ]
    }
   ],
   "source": [
    "# calcula as probabilidades condicionais\n",
    "vcounts_c1 = car_data.groupby([1,4])[0].value_counts()/car_data.groupby([1,4])[0].count()\n",
    "vcounts_c2 = car_data.groupby([0,2])[3].value_counts()/car_data.groupby([0,2])[3].count()\n",
    "\n",
    "# transforma em dataframe\n",
    "df_vcounts_c1 = vcounts_c1.unstack()\n",
    "df_vcounts_c2 = vcounts_c2.unstack()\n",
    "\n",
    "p3 = df_vcounts_c1['low'].loc['low','small']\n",
    "p4 = df_vcounts_c2['4'].loc['med','2']\n",
    "print (\"P(x1=low|x2=low,x5=small) = {:.3f}\".format(p3))\n",
    "print (\"P(x4=4|x1=med,x3=2) = {:.3f}\".format(p4))"
   ]
  },
  {
   "cell_type": "markdown",
   "metadata": {},
   "source": [
    "## d)"
   ]
  },
  {
   "cell_type": "code",
   "execution_count": 96,
   "metadata": {},
   "outputs": [
    {
     "name": "stdout",
     "output_type": "stream",
     "text": [
      "P(x2=vhigh, x3=2| x4=2) = 0.0625\n",
      "P(x3=4, x5=med| x1=med) = 0.0833\n"
     ]
    }
   ],
   "source": [
    "# agrupa pela coluna 4\n",
    "dfg_x4 = car_data.groupby(3)\n",
    "dfg_x1 = car_data.groupby(0)\n",
    "\n",
    "# x3 = 2 \n",
    "counts_x3_2 = dfg_x4[[1,2]].get_group('2').count()\n",
    "counts_x1_med = dfg_x1[[2,4]].get_group('med').count()\n",
    "\n",
    "d1_vcounts = dfg_x4[[1,2]].get_group('2').value_counts()/counts_x3_2[2]\n",
    "d2_vcounts = dfg_x1[[2,4]].get_group('med').value_counts()/counts_x1_med[2]\n",
    "\n",
    "#x1=med\n",
    "\n",
    "df_vcounts_d1 = d1_vcounts.unstack()\n",
    "df_vcounts_d2 = d2_vcounts.unstack()\n",
    "p_d1 = df_vcounts_d1['2']['vhigh']\n",
    "p_d2 = df_vcounts_d2['med'].loc['4']\n",
    "\n",
    "print (\"P(x2=vhigh, x3=2| x4=2) = {:.4f}\".format(p_d1))\n",
    "print (\"P(x3=4, x5=med| x1=med) = {:.4f}\".format(p_d2))"
   ]
  }
 ],
 "metadata": {
  "interpreter": {
   "hash": "916dbcbb3f70747c44a77c7bcd40155683ae19c65e1c03b4aa3499c5328201f1"
  },
  "kernelspec": {
   "display_name": "Python 3.9.2 64-bit",
   "language": "python",
   "name": "python3"
  },
  "language_info": {
   "codemirror_mode": {
    "name": "ipython",
    "version": 3
   },
   "file_extension": ".py",
   "mimetype": "text/x-python",
   "name": "python",
   "nbconvert_exporter": "python",
   "pygments_lexer": "ipython3",
   "version": "3.9.2"
  },
  "orig_nbformat": 4
 },
 "nbformat": 4,
 "nbformat_minor": 2
}
